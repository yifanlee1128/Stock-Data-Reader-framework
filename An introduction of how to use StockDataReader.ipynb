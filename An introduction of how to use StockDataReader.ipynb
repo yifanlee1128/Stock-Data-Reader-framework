{
 "cells": [
  {
   "cell_type": "code",
   "execution_count": 1,
   "metadata": {},
   "outputs": [],
   "source": [
    "from StockDataReader import StockDataReader"
   ]
  },
  {
   "cell_type": "markdown",
   "metadata": {},
   "source": [
    "Make sure you have installed the following packages: yahoo_fin, apscheduler"
   ]
  },
  {
   "cell_type": "markdown",
   "metadata": {},
   "source": [
    "### 1. periodically get real-time market data"
   ]
  },
  {
   "cell_type": "code",
   "execution_count": 2,
   "metadata": {},
   "outputs": [],
   "source": [
    "reader=StockDataReader(\"./data\")"
   ]
  },
  {
   "cell_type": "code",
   "execution_count": 3,
   "metadata": {},
   "outputs": [],
   "source": [
    "reporter=reader.getPeriodicReporter()"
   ]
  },
  {
   "cell_type": "code",
   "execution_count": 4,
   "metadata": {},
   "outputs": [],
   "source": [
    "tickerList=[\"AAPL\",\"MSFT\",\"ORCL\",\"JPM\"]"
   ]
  },
  {
   "cell_type": "markdown",
   "metadata": {},
   "source": [
    "get data every 20 seconds"
   ]
  },
  {
   "cell_type": "code",
   "execution_count": 5,
   "metadata": {},
   "outputs": [
    {
     "name": "stdout",
     "output_type": "stream",
     "text": [
      "      Best Ask Price  Best Ask Amount  Best Bid Price  Best Bid Amount  \\\n",
      "AAPL          122.05           3100.0          122.03           3000.0   \n",
      "MSFT          214.12           1800.0          214.00           1300.0   \n",
      "ORCL           59.96           1800.0           59.89           2900.0   \n",
      "JPM           122.08           1100.0          122.17           1200.0   \n",
      "\n",
      "      Quote Price    Open  Previous Close      Volume  \n",
      "AAPL       122.25  122.60          122.94  70143416.0  \n",
      "MSFT       214.36  214.22          214.24  22664089.0  \n",
      "ORCL        59.96   59.31           59.27  10872210.0  \n",
      "JPM        122.34  122.48          121.24  13583026.0  \n",
      "      Best Ask Price  Best Ask Amount  Best Bid Price  Best Bid Amount  \\\n",
      "AAPL          122.05           3100.0          122.03           3000.0   \n",
      "MSFT          214.12           1800.0          214.00           1300.0   \n",
      "ORCL           59.96           1800.0           59.89           2900.0   \n",
      "JPM           122.08           1100.0          122.17           1200.0   \n",
      "\n",
      "      Quote Price    Open  Previous Close      Volume  \n",
      "AAPL       122.25  122.60          122.94  70143416.0  \n",
      "MSFT       214.36  214.22          214.24  22664089.0  \n",
      "ORCL        59.96   59.31           59.27  10872210.0  \n",
      "JPM        122.34  122.48          121.24  13583026.0  \n"
     ]
    }
   ],
   "source": [
    "reporter.addJob(20,tickerList)"
   ]
  },
  {
   "cell_type": "markdown",
   "metadata": {},
   "source": [
    "get the information of the current reporter"
   ]
  },
  {
   "cell_type": "code",
   "execution_count": 6,
   "metadata": {},
   "outputs": [
    {
     "name": "stdout",
     "output_type": "stream",
     "text": [
      "Jobstore default:\n",
      "    StockDataReader.getCurrentMarketData (trigger: interval[0:00:20], next run at: 2020-12-04 18:55:58 EST)\n"
     ]
    }
   ],
   "source": [
    "reporter.getJob()"
   ]
  },
  {
   "cell_type": "markdown",
   "metadata": {},
   "source": [
    "close the reporter"
   ]
  },
  {
   "cell_type": "code",
   "execution_count": 7,
   "metadata": {},
   "outputs": [],
   "source": [
    "reporter.shutDown()"
   ]
  },
  {
   "cell_type": "markdown",
   "metadata": {},
   "source": [
    "### 2 get real-time market data at a specific time"
   ]
  },
  {
   "cell_type": "code",
   "execution_count": 8,
   "metadata": {},
   "outputs": [],
   "source": [
    "reporter=reader.getSpecificTimeReporter()"
   ]
  },
  {
   "cell_type": "code",
   "execution_count": 9,
   "metadata": {},
   "outputs": [],
   "source": [
    "reporter.addJob(18,56,20,tickerList)"
   ]
  },
  {
   "cell_type": "code",
   "execution_count": 10,
   "metadata": {},
   "outputs": [
    {
     "name": "stdout",
     "output_type": "stream",
     "text": [
      "Jobstore default:\n",
      "    StockDataReader.getCurrentMarketData (trigger: cron[hour='18', minute='56', second='20'], next run at: 2020-12-04 18:56:20 EST)\n",
      "      Best Ask Price  Best Ask Amount  Best Bid Price  Best Bid Amount  \\\n",
      "AAPL          122.05           3100.0          122.03           3000.0   \n",
      "MSFT          214.12           1800.0          214.00           1300.0   \n",
      "ORCL           59.96           1800.0           59.89           2900.0   \n",
      "JPM           122.08           1100.0          122.17           1200.0   \n",
      "\n",
      "      Quote Price    Open  Previous Close      Volume  \n",
      "AAPL       122.25  122.60          122.94  70143416.0  \n",
      "MSFT       214.36  214.22          214.24  22664089.0  \n",
      "ORCL        59.96   59.31           59.27  10872210.0  \n",
      "JPM        122.34  122.48          121.24  13583026.0  \n"
     ]
    }
   ],
   "source": [
    "reporter.getAllJobs()"
   ]
  },
  {
   "cell_type": "markdown",
   "metadata": {},
   "source": [
    "after get a new update, the time of next run changes"
   ]
  },
  {
   "cell_type": "code",
   "execution_count": 11,
   "metadata": {},
   "outputs": [
    {
     "name": "stdout",
     "output_type": "stream",
     "text": [
      "Jobstore default:\n",
      "    StockDataReader.getCurrentMarketData (trigger: cron[hour='18', minute='56', second='20'], next run at: 2020-12-05 18:56:20 EST)\n"
     ]
    }
   ],
   "source": [
    "reporter.getAllJobs()"
   ]
  },
  {
   "cell_type": "code",
   "execution_count": 12,
   "metadata": {},
   "outputs": [],
   "source": [
    "reporter.addJob(18,57,0,[\"IBM\"])"
   ]
  },
  {
   "cell_type": "markdown",
   "metadata": {},
   "source": [
    "There can be multiple jobs for the reporter"
   ]
  },
  {
   "cell_type": "code",
   "execution_count": 13,
   "metadata": {},
   "outputs": [
    {
     "name": "stdout",
     "output_type": "stream",
     "text": [
      "Jobstore default:\n",
      "    StockDataReader.getCurrentMarketData (trigger: cron[hour='18', minute='57', second='0'], next run at: 2020-12-04 18:57:00 EST)\n",
      "    StockDataReader.getCurrentMarketData (trigger: cron[hour='18', minute='56', second='20'], next run at: 2020-12-05 18:56:20 EST)\n",
      "     Best Ask Price  Best Ask Amount  Best Bid Price  Best Bid Amount  \\\n",
      "IBM          127.14            800.0          127.18           1300.0   \n",
      "\n",
      "     Quote Price    Open  Previous Close     Volume  \n",
      "IBM        127.2  123.97          123.61  5240636.0  \n"
     ]
    }
   ],
   "source": [
    "reporter.getAllJobs()"
   ]
  },
  {
   "cell_type": "markdown",
   "metadata": {},
   "source": [
    "after get a new update, the time of next run changes"
   ]
  },
  {
   "cell_type": "code",
   "execution_count": 14,
   "metadata": {},
   "outputs": [
    {
     "name": "stdout",
     "output_type": "stream",
     "text": [
      "Jobstore default:\n",
      "    StockDataReader.getCurrentMarketData (trigger: cron[hour='18', minute='56', second='20'], next run at: 2020-12-05 18:56:20 EST)\n",
      "    StockDataReader.getCurrentMarketData (trigger: cron[hour='18', minute='57', second='0'], next run at: 2020-12-05 18:57:00 EST)\n"
     ]
    }
   ],
   "source": [
    "reporter.getAllJobs()"
   ]
  },
  {
   "cell_type": "code",
   "execution_count": 15,
   "metadata": {},
   "outputs": [],
   "source": [
    "reporter.shutDown()"
   ]
  },
  {
   "cell_type": "markdown",
   "metadata": {},
   "source": [
    "### 3.get historical data from yahoo finance"
   ]
  },
  {
   "cell_type": "markdown",
   "metadata": {},
   "source": [
    "we also save the downloaded data at local"
   ]
  },
  {
   "cell_type": "code",
   "execution_count": 16,
   "metadata": {},
   "outputs": [],
   "source": [
    "test_Data=reader.getHistoricalData(tickerList=tickerList,startDate=\"2016-03-05\",endDate=\"2019-12-20\",update=True)"
   ]
  },
  {
   "cell_type": "code",
   "execution_count": 17,
   "metadata": {},
   "outputs": [
    {
     "data": {
      "text/plain": [
       "{'AAPL': {'data':                  open       high        low      close   adjclose     volume  \\\n",
       "  2016-03-07  25.597500  25.707500  25.240000  25.467501  23.530294  143315600   \n",
       "  2016-03-08  25.195000  25.440001  25.100000  25.257500  23.336264  126247600   \n",
       "  2016-03-09  25.327499  25.395000  25.067499  25.280001  23.357054  108806800   \n",
       "  2016-03-10  25.352501  25.559999  25.037500  25.292500  23.368603  134054400   \n",
       "  2016-03-11  25.559999  25.570000  25.375000  25.565001  23.620375  109632800   \n",
       "  ...               ...        ...        ...        ...        ...        ...   \n",
       "  2019-12-13  67.864998  68.824997  67.732498  68.787498  67.644707  133587600   \n",
       "  2019-12-16  69.250000  70.197502  69.245003  69.964996  68.802635  128186000   \n",
       "  2019-12-17  69.892502  70.442497  69.699997  70.102501  68.937851  114158400   \n",
       "  2019-12-18  69.949997  70.474998  69.779999  69.934998  68.773132  116028400   \n",
       "  2019-12-19  69.875000  70.294998  69.737503  70.004997  68.841965   98369200   \n",
       "  \n",
       "             ticker  \n",
       "  2016-03-07   AAPL  \n",
       "  2016-03-08   AAPL  \n",
       "  2016-03-09   AAPL  \n",
       "  2016-03-10   AAPL  \n",
       "  2016-03-11   AAPL  \n",
       "  ...           ...  \n",
       "  2019-12-13   AAPL  \n",
       "  2019-12-16   AAPL  \n",
       "  2019-12-17   AAPL  \n",
       "  2019-12-18   AAPL  \n",
       "  2019-12-19   AAPL  \n",
       "  \n",
       "  [956 rows x 7 columns],\n",
       "  'start date': Timestamp('2016-03-07 00:00:00'),\n",
       "  'end date': Timestamp('2019-12-19 00:00:00')},\n",
       " 'MSFT': {'data':                   open        high         low       close    adjclose  \\\n",
       "  2016-03-07   51.560001   51.799999   50.580002   51.029999   46.900837   \n",
       "  2016-03-08   50.799999   52.130001   50.599998   51.650002   47.470673   \n",
       "  2016-03-09   51.889999   52.849998   51.860001   52.840000   48.564392   \n",
       "  2016-03-10   52.930000   52.939999   51.160000   52.049999   47.838306   \n",
       "  2016-03-11   53.000000   53.070000   52.380001   53.070000   48.775776   \n",
       "  ...                ...         ...         ...         ...         ...   \n",
       "  2019-12-13  153.000000  154.889999  152.830002  154.529999  152.910126   \n",
       "  2019-12-16  155.110001  155.899994  154.820007  155.529999  153.899643   \n",
       "  2019-12-17  155.449997  155.710007  154.449997  154.690002  153.068451   \n",
       "  2019-12-18  154.300003  155.479996  154.179993  154.369995  152.751816   \n",
       "  2019-12-19  154.000000  155.770004  153.750000  155.710007  154.077759   \n",
       "  \n",
       "                volume ticker  \n",
       "  2016-03-07  38407800   MSFT  \n",
       "  2016-03-08  33835100   MSFT  \n",
       "  2016-03-09  28251600   MSFT  \n",
       "  2016-03-10  38387800   MSFT  \n",
       "  2016-03-11  32275700   MSFT  \n",
       "  ...              ...    ...  \n",
       "  2019-12-13  23845400   MSFT  \n",
       "  2019-12-16  24144200   MSFT  \n",
       "  2019-12-17  25425600   MSFT  \n",
       "  2019-12-18  24129200   MSFT  \n",
       "  2019-12-19  24958900   MSFT  \n",
       "  \n",
       "  [956 rows x 7 columns],\n",
       "  'start date': Timestamp('2016-03-07 00:00:00'),\n",
       "  'end date': Timestamp('2019-12-19 00:00:00')},\n",
       " 'ORCL': {'data':                  open       high        low      close   adjclose    volume  \\\n",
       "  2016-03-07  37.540001  38.450001  37.520000  38.360001  35.500458  13011000   \n",
       "  2016-03-08  38.110001  38.450001  37.939999  38.150002  35.306110  12384400   \n",
       "  2016-03-09  38.430000  38.610001  38.119999  38.480000  35.611515  16786500   \n",
       "  2016-03-10  38.770000  38.770000  37.509998  38.049999  35.213573  17620600   \n",
       "  2016-03-11  38.450001  38.970001  38.279999  38.950001  36.046474  13143300   \n",
       "  ...               ...        ...        ...        ...        ...       ...   \n",
       "  2019-12-13  55.000000  55.400002  54.419998  54.509998  53.567570  21427700   \n",
       "  2019-12-16  54.599998  54.980000  53.700001  53.990002  53.056564  19951000   \n",
       "  2019-12-17  53.889999  54.060001  52.830002  52.840000  51.926445  19778400   \n",
       "  2019-12-18  53.060001  53.610001  52.950001  53.389999  52.466938  14123100   \n",
       "  2019-12-19  53.299999  53.599998  53.040001  53.240002  52.319530  11910100   \n",
       "  \n",
       "             ticker  \n",
       "  2016-03-07   ORCL  \n",
       "  2016-03-08   ORCL  \n",
       "  2016-03-09   ORCL  \n",
       "  2016-03-10   ORCL  \n",
       "  2016-03-11   ORCL  \n",
       "  ...           ...  \n",
       "  2019-12-13   ORCL  \n",
       "  2019-12-16   ORCL  \n",
       "  2019-12-17   ORCL  \n",
       "  2019-12-18   ORCL  \n",
       "  2019-12-19   ORCL  \n",
       "  \n",
       "  [956 rows x 7 columns],\n",
       "  'start date': Timestamp('2016-03-07 00:00:00'),\n",
       "  'end date': Timestamp('2019-12-19 00:00:00')},\n",
       " 'JPM': {'data':                   open        high         low       close    adjclose  \\\n",
       "  2016-03-07   59.540001   60.049999   59.320000   59.939999   52.122581   \n",
       "  2016-03-08   59.209999   59.500000   58.680000   58.779999   51.113869   \n",
       "  2016-03-09   59.150002   59.540001   58.680000   59.119999   51.409531   \n",
       "  2016-03-10   59.590000   59.669998   57.810001   58.610001   50.966049   \n",
       "  2016-03-11   59.389999   59.509998   58.650002   59.340000   51.600838   \n",
       "  ...                ...         ...         ...         ...         ...   \n",
       "  2019-12-13  137.949997  138.830002  136.220001  136.809998  132.015869   \n",
       "  2019-12-16  138.380005  138.839996  137.320007  137.339996  132.527283   \n",
       "  2019-12-17  137.729996  138.669998  137.229996  138.179993  133.337845   \n",
       "  2019-12-18  138.149994  139.020004  137.720001  138.039993  133.202759   \n",
       "  2019-12-19  137.759995  138.220001  137.100006  137.350006  132.536957   \n",
       "  \n",
       "                volume ticker  \n",
       "  2016-03-07  12832400    JPM  \n",
       "  2016-03-08  14132900    JPM  \n",
       "  2016-03-09  13238800    JPM  \n",
       "  2016-03-10  21139200    JPM  \n",
       "  2016-03-11  21055000    JPM  \n",
       "  ...              ...    ...  \n",
       "  2019-12-13  10592100    JPM  \n",
       "  2019-12-16  11372000    JPM  \n",
       "  2019-12-17  11546800    JPM  \n",
       "  2019-12-18  10381500    JPM  \n",
       "  2019-12-19   9350400    JPM  \n",
       "  \n",
       "  [956 rows x 7 columns],\n",
       "  'start date': Timestamp('2016-03-07 00:00:00'),\n",
       "  'end date': Timestamp('2019-12-19 00:00:00')}}"
      ]
     },
     "execution_count": 17,
     "metadata": {},
     "output_type": "execute_result"
    }
   ],
   "source": [
    "test_Data"
   ]
  },
  {
   "cell_type": "markdown",
   "metadata": {},
   "source": [
    "Check data is already at local"
   ]
  },
  {
   "cell_type": "code",
   "execution_count": 18,
   "metadata": {},
   "outputs": [
    {
     "name": "stdout",
     "output_type": "stream",
     "text": [
      "True\n",
      "True\n",
      "True\n",
      "True\n"
     ]
    }
   ],
   "source": [
    "import os\n",
    "print(os.path.isfile(\"./data/AAPL.csv\"))\n",
    "print(os.path.isfile(\"./data/JPM.csv\"))\n",
    "print(os.path.isfile(\"./data/ORCL.csv\"))\n",
    "print(os.path.isfile(\"./data/MSFT.csv\"))"
   ]
  },
  {
   "cell_type": "markdown",
   "metadata": {},
   "source": [
    "read from local"
   ]
  },
  {
   "cell_type": "code",
   "execution_count": 19,
   "metadata": {},
   "outputs": [],
   "source": [
    "test_Data2=reader.getHistoricalData(tickerList=tickerList,startDate=\"2016-03-05\",endDate=\"2019-12-20\",readFromLocal=True)"
   ]
  },
  {
   "cell_type": "markdown",
   "metadata": {},
   "source": [
    "try to read not existed file"
   ]
  },
  {
   "cell_type": "code",
   "execution_count": 20,
   "metadata": {},
   "outputs": [
    {
     "name": "stderr",
     "output_type": "stream",
     "text": [
      "C:\\Users\\liyf4\\JupyterNotebook\\StockDataReader.py:290: UserWarning: ABCD's data not found!\n",
      "  warnings.warn(\"{}'s data not found!\".format(ticker))\n"
     ]
    },
    {
     "data": {
      "text/plain": [
       "{}"
      ]
     },
     "execution_count": 20,
     "metadata": {},
     "output_type": "execute_result"
    }
   ],
   "source": [
    "reader.getHistoricalData([\"ABCD\"],readFromLocal=True)"
   ]
  },
  {
   "cell_type": "markdown",
   "metadata": {},
   "source": [
    "### 3 organise data"
   ]
  },
  {
   "cell_type": "markdown",
   "metadata": {},
   "source": [
    "column=name of values, index=date"
   ]
  },
  {
   "cell_type": "code",
   "execution_count": 21,
   "metadata": {},
   "outputs": [],
   "source": [
    "data1=reader.transform_Date_Value(\"AAPL\",readFromLocal=True)"
   ]
  },
  {
   "cell_type": "code",
   "execution_count": 22,
   "metadata": {},
   "outputs": [
    {
     "data": {
      "text/html": [
       "<div>\n",
       "<style scoped>\n",
       "    .dataframe tbody tr th:only-of-type {\n",
       "        vertical-align: middle;\n",
       "    }\n",
       "\n",
       "    .dataframe tbody tr th {\n",
       "        vertical-align: top;\n",
       "    }\n",
       "\n",
       "    .dataframe thead th {\n",
       "        text-align: right;\n",
       "    }\n",
       "</style>\n",
       "<table border=\"1\" class=\"dataframe\">\n",
       "  <thead>\n",
       "    <tr style=\"text-align: right;\">\n",
       "      <th></th>\n",
       "      <th>open</th>\n",
       "      <th>high</th>\n",
       "      <th>low</th>\n",
       "      <th>close</th>\n",
       "      <th>adjclose</th>\n",
       "      <th>volume</th>\n",
       "      <th>ticker</th>\n",
       "    </tr>\n",
       "  </thead>\n",
       "  <tbody>\n",
       "    <tr>\n",
       "      <th>2016-03-07</th>\n",
       "      <td>25.597500</td>\n",
       "      <td>25.707500</td>\n",
       "      <td>25.240000</td>\n",
       "      <td>25.467501</td>\n",
       "      <td>23.530294</td>\n",
       "      <td>143315600</td>\n",
       "      <td>AAPL</td>\n",
       "    </tr>\n",
       "    <tr>\n",
       "      <th>2016-03-08</th>\n",
       "      <td>25.195000</td>\n",
       "      <td>25.440001</td>\n",
       "      <td>25.100000</td>\n",
       "      <td>25.257500</td>\n",
       "      <td>23.336264</td>\n",
       "      <td>126247600</td>\n",
       "      <td>AAPL</td>\n",
       "    </tr>\n",
       "    <tr>\n",
       "      <th>2016-03-09</th>\n",
       "      <td>25.327499</td>\n",
       "      <td>25.395000</td>\n",
       "      <td>25.067499</td>\n",
       "      <td>25.280001</td>\n",
       "      <td>23.357054</td>\n",
       "      <td>108806800</td>\n",
       "      <td>AAPL</td>\n",
       "    </tr>\n",
       "    <tr>\n",
       "      <th>2016-03-10</th>\n",
       "      <td>25.352501</td>\n",
       "      <td>25.559999</td>\n",
       "      <td>25.037500</td>\n",
       "      <td>25.292500</td>\n",
       "      <td>23.368603</td>\n",
       "      <td>134054400</td>\n",
       "      <td>AAPL</td>\n",
       "    </tr>\n",
       "    <tr>\n",
       "      <th>2016-03-11</th>\n",
       "      <td>25.559999</td>\n",
       "      <td>25.570000</td>\n",
       "      <td>25.375000</td>\n",
       "      <td>25.565001</td>\n",
       "      <td>23.620375</td>\n",
       "      <td>109632800</td>\n",
       "      <td>AAPL</td>\n",
       "    </tr>\n",
       "    <tr>\n",
       "      <th>...</th>\n",
       "      <td>...</td>\n",
       "      <td>...</td>\n",
       "      <td>...</td>\n",
       "      <td>...</td>\n",
       "      <td>...</td>\n",
       "      <td>...</td>\n",
       "      <td>...</td>\n",
       "    </tr>\n",
       "    <tr>\n",
       "      <th>2019-12-13</th>\n",
       "      <td>67.864998</td>\n",
       "      <td>68.824997</td>\n",
       "      <td>67.732498</td>\n",
       "      <td>68.787498</td>\n",
       "      <td>67.644707</td>\n",
       "      <td>133587600</td>\n",
       "      <td>AAPL</td>\n",
       "    </tr>\n",
       "    <tr>\n",
       "      <th>2019-12-16</th>\n",
       "      <td>69.250000</td>\n",
       "      <td>70.197502</td>\n",
       "      <td>69.245003</td>\n",
       "      <td>69.964996</td>\n",
       "      <td>68.802635</td>\n",
       "      <td>128186000</td>\n",
       "      <td>AAPL</td>\n",
       "    </tr>\n",
       "    <tr>\n",
       "      <th>2019-12-17</th>\n",
       "      <td>69.892502</td>\n",
       "      <td>70.442497</td>\n",
       "      <td>69.699997</td>\n",
       "      <td>70.102501</td>\n",
       "      <td>68.937851</td>\n",
       "      <td>114158400</td>\n",
       "      <td>AAPL</td>\n",
       "    </tr>\n",
       "    <tr>\n",
       "      <th>2019-12-18</th>\n",
       "      <td>69.949997</td>\n",
       "      <td>70.474998</td>\n",
       "      <td>69.779999</td>\n",
       "      <td>69.934998</td>\n",
       "      <td>68.773132</td>\n",
       "      <td>116028400</td>\n",
       "      <td>AAPL</td>\n",
       "    </tr>\n",
       "    <tr>\n",
       "      <th>2019-12-19</th>\n",
       "      <td>69.875000</td>\n",
       "      <td>70.294998</td>\n",
       "      <td>69.737503</td>\n",
       "      <td>70.004997</td>\n",
       "      <td>68.841965</td>\n",
       "      <td>98369200</td>\n",
       "      <td>AAPL</td>\n",
       "    </tr>\n",
       "  </tbody>\n",
       "</table>\n",
       "<p>956 rows × 7 columns</p>\n",
       "</div>"
      ],
      "text/plain": [
       "                 open       high        low      close   adjclose     volume  \\\n",
       "2016-03-07  25.597500  25.707500  25.240000  25.467501  23.530294  143315600   \n",
       "2016-03-08  25.195000  25.440001  25.100000  25.257500  23.336264  126247600   \n",
       "2016-03-09  25.327499  25.395000  25.067499  25.280001  23.357054  108806800   \n",
       "2016-03-10  25.352501  25.559999  25.037500  25.292500  23.368603  134054400   \n",
       "2016-03-11  25.559999  25.570000  25.375000  25.565001  23.620375  109632800   \n",
       "...               ...        ...        ...        ...        ...        ...   \n",
       "2019-12-13  67.864998  68.824997  67.732498  68.787498  67.644707  133587600   \n",
       "2019-12-16  69.250000  70.197502  69.245003  69.964996  68.802635  128186000   \n",
       "2019-12-17  69.892502  70.442497  69.699997  70.102501  68.937851  114158400   \n",
       "2019-12-18  69.949997  70.474998  69.779999  69.934998  68.773132  116028400   \n",
       "2019-12-19  69.875000  70.294998  69.737503  70.004997  68.841965   98369200   \n",
       "\n",
       "           ticker  \n",
       "2016-03-07   AAPL  \n",
       "2016-03-08   AAPL  \n",
       "2016-03-09   AAPL  \n",
       "2016-03-10   AAPL  \n",
       "2016-03-11   AAPL  \n",
       "...           ...  \n",
       "2019-12-13   AAPL  \n",
       "2019-12-16   AAPL  \n",
       "2019-12-17   AAPL  \n",
       "2019-12-18   AAPL  \n",
       "2019-12-19   AAPL  \n",
       "\n",
       "[956 rows x 7 columns]"
      ]
     },
     "execution_count": 22,
     "metadata": {},
     "output_type": "execute_result"
    }
   ],
   "source": [
    "data1"
   ]
  },
  {
   "cell_type": "markdown",
   "metadata": {},
   "source": [
    "column=ticker, index=date"
   ]
  },
  {
   "cell_type": "code",
   "execution_count": 23,
   "metadata": {},
   "outputs": [],
   "source": [
    "data2_close=reader.transform_Date_Ticker(test_Data,\"close\")"
   ]
  },
  {
   "cell_type": "code",
   "execution_count": 24,
   "metadata": {},
   "outputs": [
    {
     "data": {
      "text/html": [
       "<div>\n",
       "<style scoped>\n",
       "    .dataframe tbody tr th:only-of-type {\n",
       "        vertical-align: middle;\n",
       "    }\n",
       "\n",
       "    .dataframe tbody tr th {\n",
       "        vertical-align: top;\n",
       "    }\n",
       "\n",
       "    .dataframe thead th {\n",
       "        text-align: right;\n",
       "    }\n",
       "</style>\n",
       "<table border=\"1\" class=\"dataframe\">\n",
       "  <thead>\n",
       "    <tr style=\"text-align: right;\">\n",
       "      <th></th>\n",
       "      <th>AAPL</th>\n",
       "      <th>MSFT</th>\n",
       "      <th>ORCL</th>\n",
       "      <th>JPM</th>\n",
       "    </tr>\n",
       "  </thead>\n",
       "  <tbody>\n",
       "    <tr>\n",
       "      <th>2016-03-07</th>\n",
       "      <td>25.467501</td>\n",
       "      <td>51.029999</td>\n",
       "      <td>38.360001</td>\n",
       "      <td>59.939999</td>\n",
       "    </tr>\n",
       "    <tr>\n",
       "      <th>2016-03-08</th>\n",
       "      <td>25.257500</td>\n",
       "      <td>51.650002</td>\n",
       "      <td>38.150002</td>\n",
       "      <td>58.779999</td>\n",
       "    </tr>\n",
       "    <tr>\n",
       "      <th>2016-03-09</th>\n",
       "      <td>25.280001</td>\n",
       "      <td>52.840000</td>\n",
       "      <td>38.480000</td>\n",
       "      <td>59.119999</td>\n",
       "    </tr>\n",
       "    <tr>\n",
       "      <th>2016-03-10</th>\n",
       "      <td>25.292500</td>\n",
       "      <td>52.049999</td>\n",
       "      <td>38.049999</td>\n",
       "      <td>58.610001</td>\n",
       "    </tr>\n",
       "    <tr>\n",
       "      <th>2016-03-11</th>\n",
       "      <td>25.565001</td>\n",
       "      <td>53.070000</td>\n",
       "      <td>38.950001</td>\n",
       "      <td>59.340000</td>\n",
       "    </tr>\n",
       "    <tr>\n",
       "      <th>...</th>\n",
       "      <td>...</td>\n",
       "      <td>...</td>\n",
       "      <td>...</td>\n",
       "      <td>...</td>\n",
       "    </tr>\n",
       "    <tr>\n",
       "      <th>2019-12-13</th>\n",
       "      <td>68.787498</td>\n",
       "      <td>154.529999</td>\n",
       "      <td>54.509998</td>\n",
       "      <td>136.809998</td>\n",
       "    </tr>\n",
       "    <tr>\n",
       "      <th>2019-12-16</th>\n",
       "      <td>69.964996</td>\n",
       "      <td>155.529999</td>\n",
       "      <td>53.990002</td>\n",
       "      <td>137.339996</td>\n",
       "    </tr>\n",
       "    <tr>\n",
       "      <th>2019-12-17</th>\n",
       "      <td>70.102501</td>\n",
       "      <td>154.690002</td>\n",
       "      <td>52.840000</td>\n",
       "      <td>138.179993</td>\n",
       "    </tr>\n",
       "    <tr>\n",
       "      <th>2019-12-18</th>\n",
       "      <td>69.934998</td>\n",
       "      <td>154.369995</td>\n",
       "      <td>53.389999</td>\n",
       "      <td>138.039993</td>\n",
       "    </tr>\n",
       "    <tr>\n",
       "      <th>2019-12-19</th>\n",
       "      <td>70.004997</td>\n",
       "      <td>155.710007</td>\n",
       "      <td>53.240002</td>\n",
       "      <td>137.350006</td>\n",
       "    </tr>\n",
       "  </tbody>\n",
       "</table>\n",
       "<p>956 rows × 4 columns</p>\n",
       "</div>"
      ],
      "text/plain": [
       "                 AAPL        MSFT       ORCL         JPM\n",
       "2016-03-07  25.467501   51.029999  38.360001   59.939999\n",
       "2016-03-08  25.257500   51.650002  38.150002   58.779999\n",
       "2016-03-09  25.280001   52.840000  38.480000   59.119999\n",
       "2016-03-10  25.292500   52.049999  38.049999   58.610001\n",
       "2016-03-11  25.565001   53.070000  38.950001   59.340000\n",
       "...               ...         ...        ...         ...\n",
       "2019-12-13  68.787498  154.529999  54.509998  136.809998\n",
       "2019-12-16  69.964996  155.529999  53.990002  137.339996\n",
       "2019-12-17  70.102501  154.690002  52.840000  138.179993\n",
       "2019-12-18  69.934998  154.369995  53.389999  138.039993\n",
       "2019-12-19  70.004997  155.710007  53.240002  137.350006\n",
       "\n",
       "[956 rows x 4 columns]"
      ]
     },
     "execution_count": 24,
     "metadata": {},
     "output_type": "execute_result"
    }
   ],
   "source": [
    "data2_close"
   ]
  },
  {
   "cell_type": "code",
   "execution_count": 25,
   "metadata": {},
   "outputs": [],
   "source": [
    "data2_volume=reader.transform_Date_Ticker(test_Data,value=\"volume\")"
   ]
  },
  {
   "cell_type": "code",
   "execution_count": 26,
   "metadata": {},
   "outputs": [
    {
     "data": {
      "text/html": [
       "<div>\n",
       "<style scoped>\n",
       "    .dataframe tbody tr th:only-of-type {\n",
       "        vertical-align: middle;\n",
       "    }\n",
       "\n",
       "    .dataframe tbody tr th {\n",
       "        vertical-align: top;\n",
       "    }\n",
       "\n",
       "    .dataframe thead th {\n",
       "        text-align: right;\n",
       "    }\n",
       "</style>\n",
       "<table border=\"1\" class=\"dataframe\">\n",
       "  <thead>\n",
       "    <tr style=\"text-align: right;\">\n",
       "      <th></th>\n",
       "      <th>AAPL</th>\n",
       "      <th>MSFT</th>\n",
       "      <th>ORCL</th>\n",
       "      <th>JPM</th>\n",
       "    </tr>\n",
       "  </thead>\n",
       "  <tbody>\n",
       "    <tr>\n",
       "      <th>2016-03-07</th>\n",
       "      <td>143315600</td>\n",
       "      <td>38407800</td>\n",
       "      <td>13011000</td>\n",
       "      <td>12832400</td>\n",
       "    </tr>\n",
       "    <tr>\n",
       "      <th>2016-03-08</th>\n",
       "      <td>126247600</td>\n",
       "      <td>33835100</td>\n",
       "      <td>12384400</td>\n",
       "      <td>14132900</td>\n",
       "    </tr>\n",
       "    <tr>\n",
       "      <th>2016-03-09</th>\n",
       "      <td>108806800</td>\n",
       "      <td>28251600</td>\n",
       "      <td>16786500</td>\n",
       "      <td>13238800</td>\n",
       "    </tr>\n",
       "    <tr>\n",
       "      <th>2016-03-10</th>\n",
       "      <td>134054400</td>\n",
       "      <td>38387800</td>\n",
       "      <td>17620600</td>\n",
       "      <td>21139200</td>\n",
       "    </tr>\n",
       "    <tr>\n",
       "      <th>2016-03-11</th>\n",
       "      <td>109632800</td>\n",
       "      <td>32275700</td>\n",
       "      <td>13143300</td>\n",
       "      <td>21055000</td>\n",
       "    </tr>\n",
       "    <tr>\n",
       "      <th>...</th>\n",
       "      <td>...</td>\n",
       "      <td>...</td>\n",
       "      <td>...</td>\n",
       "      <td>...</td>\n",
       "    </tr>\n",
       "    <tr>\n",
       "      <th>2019-12-13</th>\n",
       "      <td>133587600</td>\n",
       "      <td>23845400</td>\n",
       "      <td>21427700</td>\n",
       "      <td>10592100</td>\n",
       "    </tr>\n",
       "    <tr>\n",
       "      <th>2019-12-16</th>\n",
       "      <td>128186000</td>\n",
       "      <td>24144200</td>\n",
       "      <td>19951000</td>\n",
       "      <td>11372000</td>\n",
       "    </tr>\n",
       "    <tr>\n",
       "      <th>2019-12-17</th>\n",
       "      <td>114158400</td>\n",
       "      <td>25425600</td>\n",
       "      <td>19778400</td>\n",
       "      <td>11546800</td>\n",
       "    </tr>\n",
       "    <tr>\n",
       "      <th>2019-12-18</th>\n",
       "      <td>116028400</td>\n",
       "      <td>24129200</td>\n",
       "      <td>14123100</td>\n",
       "      <td>10381500</td>\n",
       "    </tr>\n",
       "    <tr>\n",
       "      <th>2019-12-19</th>\n",
       "      <td>98369200</td>\n",
       "      <td>24958900</td>\n",
       "      <td>11910100</td>\n",
       "      <td>9350400</td>\n",
       "    </tr>\n",
       "  </tbody>\n",
       "</table>\n",
       "<p>956 rows × 4 columns</p>\n",
       "</div>"
      ],
      "text/plain": [
       "                 AAPL      MSFT      ORCL       JPM\n",
       "2016-03-07  143315600  38407800  13011000  12832400\n",
       "2016-03-08  126247600  33835100  12384400  14132900\n",
       "2016-03-09  108806800  28251600  16786500  13238800\n",
       "2016-03-10  134054400  38387800  17620600  21139200\n",
       "2016-03-11  109632800  32275700  13143300  21055000\n",
       "...               ...       ...       ...       ...\n",
       "2019-12-13  133587600  23845400  21427700  10592100\n",
       "2019-12-16  128186000  24144200  19951000  11372000\n",
       "2019-12-17  114158400  25425600  19778400  11546800\n",
       "2019-12-18  116028400  24129200  14123100  10381500\n",
       "2019-12-19   98369200  24958900  11910100   9350400\n",
       "\n",
       "[956 rows x 4 columns]"
      ]
     },
     "execution_count": 26,
     "metadata": {},
     "output_type": "execute_result"
    }
   ],
   "source": [
    "data2_volume"
   ]
  },
  {
   "cell_type": "markdown",
   "metadata": {},
   "source": [
    "column=name of values, index=ticker"
   ]
  },
  {
   "cell_type": "code",
   "execution_count": 27,
   "metadata": {},
   "outputs": [],
   "source": [
    "data3=reader.transform_Ticker_Value(test_Data,\"2019-12-16\")"
   ]
  },
  {
   "cell_type": "code",
   "execution_count": 28,
   "metadata": {},
   "outputs": [
    {
     "data": {
      "text/html": [
       "<div>\n",
       "<style scoped>\n",
       "    .dataframe tbody tr th:only-of-type {\n",
       "        vertical-align: middle;\n",
       "    }\n",
       "\n",
       "    .dataframe tbody tr th {\n",
       "        vertical-align: top;\n",
       "    }\n",
       "\n",
       "    .dataframe thead th {\n",
       "        text-align: right;\n",
       "    }\n",
       "</style>\n",
       "<table border=\"1\" class=\"dataframe\">\n",
       "  <thead>\n",
       "    <tr style=\"text-align: right;\">\n",
       "      <th></th>\n",
       "      <th>open</th>\n",
       "      <th>high</th>\n",
       "      <th>low</th>\n",
       "      <th>close</th>\n",
       "      <th>adjclose</th>\n",
       "      <th>volume</th>\n",
       "    </tr>\n",
       "  </thead>\n",
       "  <tbody>\n",
       "    <tr>\n",
       "      <th>AAPL</th>\n",
       "      <td>69.250000</td>\n",
       "      <td>70.197502</td>\n",
       "      <td>69.245003</td>\n",
       "      <td>69.964996</td>\n",
       "      <td>68.802635</td>\n",
       "      <td>128186000</td>\n",
       "    </tr>\n",
       "    <tr>\n",
       "      <th>MSFT</th>\n",
       "      <td>155.110001</td>\n",
       "      <td>155.899994</td>\n",
       "      <td>154.820007</td>\n",
       "      <td>155.529999</td>\n",
       "      <td>153.899643</td>\n",
       "      <td>24144200</td>\n",
       "    </tr>\n",
       "    <tr>\n",
       "      <th>ORCL</th>\n",
       "      <td>54.599998</td>\n",
       "      <td>54.980000</td>\n",
       "      <td>53.700001</td>\n",
       "      <td>53.990002</td>\n",
       "      <td>53.056564</td>\n",
       "      <td>19951000</td>\n",
       "    </tr>\n",
       "    <tr>\n",
       "      <th>JPM</th>\n",
       "      <td>138.380005</td>\n",
       "      <td>138.839996</td>\n",
       "      <td>137.320007</td>\n",
       "      <td>137.339996</td>\n",
       "      <td>132.527283</td>\n",
       "      <td>11372000</td>\n",
       "    </tr>\n",
       "  </tbody>\n",
       "</table>\n",
       "</div>"
      ],
      "text/plain": [
       "            open        high         low       close    adjclose     volume\n",
       "AAPL   69.250000   70.197502   69.245003   69.964996   68.802635  128186000\n",
       "MSFT  155.110001  155.899994  154.820007  155.529999  153.899643   24144200\n",
       "ORCL   54.599998   54.980000   53.700001   53.990002   53.056564   19951000\n",
       "JPM   138.380005  138.839996  137.320007  137.339996  132.527283   11372000"
      ]
     },
     "execution_count": 28,
     "metadata": {},
     "output_type": "execute_result"
    }
   ],
   "source": [
    "data3"
   ]
  },
  {
   "cell_type": "markdown",
   "metadata": {},
   "source": [
    "try to get data out of date range (raise error)"
   ]
  },
  {
   "cell_type": "code",
   "execution_count": 29,
   "metadata": {},
   "outputs": [
    {
     "ename": "ValueError",
     "evalue": "inout data of {} does not contain the data on the required date!",
     "output_type": "error",
     "traceback": [
      "\u001b[1;31m---------------------------------------------------------------------------\u001b[0m",
      "\u001b[1;31mValueError\u001b[0m                                Traceback (most recent call last)",
      "\u001b[1;32m<ipython-input-29-56a767e159c7>\u001b[0m in \u001b[0;36m<module>\u001b[1;34m\u001b[0m\n\u001b[1;32m----> 1\u001b[1;33m \u001b[0mreader\u001b[0m\u001b[1;33m.\u001b[0m\u001b[0mtransform_Ticker_Value\u001b[0m\u001b[1;33m(\u001b[0m\u001b[0mtest_Data\u001b[0m\u001b[1;33m,\u001b[0m\u001b[1;34m\"2020-12-04\"\u001b[0m\u001b[1;33m)\u001b[0m\u001b[1;33m\u001b[0m\u001b[1;33m\u001b[0m\u001b[0m\n\u001b[0m",
      "\u001b[1;32m~\\JupyterNotebook\\StockDataReader.py\u001b[0m in \u001b[0;36mtransform_Ticker_Value\u001b[1;34m(self, raw_data, date)\u001b[0m\n\u001b[0;32m    383\u001b[0m         \u001b[1;32mfor\u001b[0m \u001b[0mkey\u001b[0m\u001b[1;33m,\u001b[0m \u001b[0msubdict\u001b[0m \u001b[1;32min\u001b[0m \u001b[0mraw_data\u001b[0m\u001b[1;33m.\u001b[0m\u001b[0mitems\u001b[0m\u001b[1;33m(\u001b[0m\u001b[1;33m)\u001b[0m\u001b[1;33m:\u001b[0m\u001b[1;33m\u001b[0m\u001b[1;33m\u001b[0m\u001b[0m\n\u001b[0;32m    384\u001b[0m             \u001b[1;32mif\u001b[0m \u001b[1;32mnot\u001b[0m \u001b[1;33m(\u001b[0m\u001b[0mdate\u001b[0m \u001b[1;33m<=\u001b[0m \u001b[0msubdict\u001b[0m\u001b[1;33m[\u001b[0m\u001b[1;34m\"end date\"\u001b[0m\u001b[1;33m]\u001b[0m \u001b[1;32mand\u001b[0m \u001b[0mdate\u001b[0m \u001b[1;33m>=\u001b[0m \u001b[0msubdict\u001b[0m\u001b[1;33m[\u001b[0m\u001b[1;34m\"start date\"\u001b[0m\u001b[1;33m]\u001b[0m\u001b[1;33m)\u001b[0m\u001b[1;33m:\u001b[0m\u001b[1;33m\u001b[0m\u001b[1;33m\u001b[0m\u001b[0m\n\u001b[1;32m--> 385\u001b[1;33m                 \u001b[1;32mraise\u001b[0m \u001b[0mValueError\u001b[0m\u001b[1;33m(\u001b[0m\u001b[1;34m\"inout data of {} does not contain the data on the required date!\"\u001b[0m\u001b[1;33m)\u001b[0m\u001b[1;33m\u001b[0m\u001b[1;33m\u001b[0m\u001b[0m\n\u001b[0m\u001b[0;32m    386\u001b[0m             \u001b[1;32melif\u001b[0m \u001b[1;32mnot\u001b[0m \u001b[0mdate\u001b[0m \u001b[1;32min\u001b[0m \u001b[0msubdict\u001b[0m\u001b[1;33m[\u001b[0m\u001b[1;34m\"data\"\u001b[0m\u001b[1;33m]\u001b[0m\u001b[1;33m.\u001b[0m\u001b[0mindex\u001b[0m\u001b[1;33m.\u001b[0m\u001b[0mvalues\u001b[0m\u001b[1;33m:\u001b[0m\u001b[1;33m\u001b[0m\u001b[1;33m\u001b[0m\u001b[0m\n\u001b[0;32m    387\u001b[0m                 \u001b[1;32mraise\u001b[0m \u001b[0mValueError\u001b[0m\u001b[1;33m(\u001b[0m\u001b[1;34m\"date is not a valid trading date!\"\u001b[0m\u001b[1;33m)\u001b[0m\u001b[1;33m\u001b[0m\u001b[1;33m\u001b[0m\u001b[0m\n",
      "\u001b[1;31mValueError\u001b[0m: inout data of {} does not contain the data on the required date!"
     ]
    }
   ],
   "source": [
    "reader.transform_Ticker_Value(test_Data,\"2020-12-04\")"
   ]
  },
  {
   "cell_type": "markdown",
   "metadata": {},
   "source": [
    "try to get data at a non-trading date (raise error)"
   ]
  },
  {
   "cell_type": "code",
   "execution_count": 30,
   "metadata": {},
   "outputs": [
    {
     "ename": "ValueError",
     "evalue": "date is not a valid trading date!",
     "output_type": "error",
     "traceback": [
      "\u001b[1;31m---------------------------------------------------------------------------\u001b[0m",
      "\u001b[1;31mValueError\u001b[0m                                Traceback (most recent call last)",
      "\u001b[1;32m<ipython-input-30-c1d6484d1f58>\u001b[0m in \u001b[0;36m<module>\u001b[1;34m\u001b[0m\n\u001b[1;32m----> 1\u001b[1;33m \u001b[0mreader\u001b[0m\u001b[1;33m.\u001b[0m\u001b[0mtransform_Ticker_Value\u001b[0m\u001b[1;33m(\u001b[0m\u001b[0mtest_Data\u001b[0m\u001b[1;33m,\u001b[0m\u001b[1;34m\"2019-12-14\"\u001b[0m\u001b[1;33m)\u001b[0m\u001b[1;33m\u001b[0m\u001b[1;33m\u001b[0m\u001b[0m\n\u001b[0m",
      "\u001b[1;32m~\\JupyterNotebook\\StockDataReader.py\u001b[0m in \u001b[0;36mtransform_Ticker_Value\u001b[1;34m(self, raw_data, date)\u001b[0m\n\u001b[0;32m    385\u001b[0m                 \u001b[1;32mraise\u001b[0m \u001b[0mValueError\u001b[0m\u001b[1;33m(\u001b[0m\u001b[1;34m\"inout data of {} does not contain the data on the required date!\"\u001b[0m\u001b[1;33m)\u001b[0m\u001b[1;33m\u001b[0m\u001b[1;33m\u001b[0m\u001b[0m\n\u001b[0;32m    386\u001b[0m             \u001b[1;32melif\u001b[0m \u001b[1;32mnot\u001b[0m \u001b[0mdate\u001b[0m \u001b[1;32min\u001b[0m \u001b[0msubdict\u001b[0m\u001b[1;33m[\u001b[0m\u001b[1;34m\"data\"\u001b[0m\u001b[1;33m]\u001b[0m\u001b[1;33m.\u001b[0m\u001b[0mindex\u001b[0m\u001b[1;33m.\u001b[0m\u001b[0mvalues\u001b[0m\u001b[1;33m:\u001b[0m\u001b[1;33m\u001b[0m\u001b[1;33m\u001b[0m\u001b[0m\n\u001b[1;32m--> 387\u001b[1;33m                 \u001b[1;32mraise\u001b[0m \u001b[0mValueError\u001b[0m\u001b[1;33m(\u001b[0m\u001b[1;34m\"date is not a valid trading date!\"\u001b[0m\u001b[1;33m)\u001b[0m\u001b[1;33m\u001b[0m\u001b[1;33m\u001b[0m\u001b[0m\n\u001b[0m\u001b[0;32m    388\u001b[0m             \u001b[1;32melse\u001b[0m\u001b[1;33m:\u001b[0m\u001b[1;33m\u001b[0m\u001b[1;33m\u001b[0m\u001b[0m\n\u001b[0;32m    389\u001b[0m                 \u001b[0mans\u001b[0m\u001b[1;33m.\u001b[0m\u001b[0mloc\u001b[0m\u001b[1;33m[\u001b[0m\u001b[0mkey\u001b[0m\u001b[1;33m]\u001b[0m \u001b[1;33m=\u001b[0m \u001b[0mcopy\u001b[0m\u001b[1;33m.\u001b[0m\u001b[0mdeepcopy\u001b[0m\u001b[1;33m(\u001b[0m\u001b[0msubdict\u001b[0m\u001b[1;33m[\u001b[0m\u001b[1;34m\"data\"\u001b[0m\u001b[1;33m]\u001b[0m\u001b[1;33m.\u001b[0m\u001b[0mloc\u001b[0m\u001b[1;33m[\u001b[0m\u001b[0mdate\u001b[0m\u001b[1;33m]\u001b[0m\u001b[1;33m.\u001b[0m\u001b[0mvalues\u001b[0m\u001b[1;33m[\u001b[0m\u001b[1;33m:\u001b[0m\u001b[1;33m-\u001b[0m\u001b[1;36m1\u001b[0m\u001b[1;33m]\u001b[0m\u001b[1;33m)\u001b[0m\u001b[1;33m\u001b[0m\u001b[1;33m\u001b[0m\u001b[0m\n",
      "\u001b[1;31mValueError\u001b[0m: date is not a valid trading date!"
     ]
    }
   ],
   "source": [
    "reader.transform_Ticker_Value(test_Data,\"2019-12-14\")"
   ]
  },
  {
   "cell_type": "markdown",
   "metadata": {},
   "source": [
    "### 4. resample data"
   ]
  },
  {
   "cell_type": "markdown",
   "metadata": {},
   "source": [
    "we use following data"
   ]
  },
  {
   "cell_type": "code",
   "execution_count": 31,
   "metadata": {},
   "outputs": [
    {
     "data": {
      "text/html": [
       "<div>\n",
       "<style scoped>\n",
       "    .dataframe tbody tr th:only-of-type {\n",
       "        vertical-align: middle;\n",
       "    }\n",
       "\n",
       "    .dataframe tbody tr th {\n",
       "        vertical-align: top;\n",
       "    }\n",
       "\n",
       "    .dataframe thead th {\n",
       "        text-align: right;\n",
       "    }\n",
       "</style>\n",
       "<table border=\"1\" class=\"dataframe\">\n",
       "  <thead>\n",
       "    <tr style=\"text-align: right;\">\n",
       "      <th></th>\n",
       "      <th>AAPL</th>\n",
       "      <th>MSFT</th>\n",
       "      <th>ORCL</th>\n",
       "      <th>JPM</th>\n",
       "    </tr>\n",
       "  </thead>\n",
       "  <tbody>\n",
       "    <tr>\n",
       "      <th>2016-03-07</th>\n",
       "      <td>25.467501</td>\n",
       "      <td>51.029999</td>\n",
       "      <td>38.360001</td>\n",
       "      <td>59.939999</td>\n",
       "    </tr>\n",
       "    <tr>\n",
       "      <th>2016-03-08</th>\n",
       "      <td>25.257500</td>\n",
       "      <td>51.650002</td>\n",
       "      <td>38.150002</td>\n",
       "      <td>58.779999</td>\n",
       "    </tr>\n",
       "    <tr>\n",
       "      <th>2016-03-09</th>\n",
       "      <td>25.280001</td>\n",
       "      <td>52.840000</td>\n",
       "      <td>38.480000</td>\n",
       "      <td>59.119999</td>\n",
       "    </tr>\n",
       "    <tr>\n",
       "      <th>2016-03-10</th>\n",
       "      <td>25.292500</td>\n",
       "      <td>52.049999</td>\n",
       "      <td>38.049999</td>\n",
       "      <td>58.610001</td>\n",
       "    </tr>\n",
       "    <tr>\n",
       "      <th>2016-03-11</th>\n",
       "      <td>25.565001</td>\n",
       "      <td>53.070000</td>\n",
       "      <td>38.950001</td>\n",
       "      <td>59.340000</td>\n",
       "    </tr>\n",
       "    <tr>\n",
       "      <th>...</th>\n",
       "      <td>...</td>\n",
       "      <td>...</td>\n",
       "      <td>...</td>\n",
       "      <td>...</td>\n",
       "    </tr>\n",
       "    <tr>\n",
       "      <th>2019-12-13</th>\n",
       "      <td>68.787498</td>\n",
       "      <td>154.529999</td>\n",
       "      <td>54.509998</td>\n",
       "      <td>136.809998</td>\n",
       "    </tr>\n",
       "    <tr>\n",
       "      <th>2019-12-16</th>\n",
       "      <td>69.964996</td>\n",
       "      <td>155.529999</td>\n",
       "      <td>53.990002</td>\n",
       "      <td>137.339996</td>\n",
       "    </tr>\n",
       "    <tr>\n",
       "      <th>2019-12-17</th>\n",
       "      <td>70.102501</td>\n",
       "      <td>154.690002</td>\n",
       "      <td>52.840000</td>\n",
       "      <td>138.179993</td>\n",
       "    </tr>\n",
       "    <tr>\n",
       "      <th>2019-12-18</th>\n",
       "      <td>69.934998</td>\n",
       "      <td>154.369995</td>\n",
       "      <td>53.389999</td>\n",
       "      <td>138.039993</td>\n",
       "    </tr>\n",
       "    <tr>\n",
       "      <th>2019-12-19</th>\n",
       "      <td>70.004997</td>\n",
       "      <td>155.710007</td>\n",
       "      <td>53.240002</td>\n",
       "      <td>137.350006</td>\n",
       "    </tr>\n",
       "  </tbody>\n",
       "</table>\n",
       "<p>956 rows × 4 columns</p>\n",
       "</div>"
      ],
      "text/plain": [
       "                 AAPL        MSFT       ORCL         JPM\n",
       "2016-03-07  25.467501   51.029999  38.360001   59.939999\n",
       "2016-03-08  25.257500   51.650002  38.150002   58.779999\n",
       "2016-03-09  25.280001   52.840000  38.480000   59.119999\n",
       "2016-03-10  25.292500   52.049999  38.049999   58.610001\n",
       "2016-03-11  25.565001   53.070000  38.950001   59.340000\n",
       "...               ...         ...        ...         ...\n",
       "2019-12-13  68.787498  154.529999  54.509998  136.809998\n",
       "2019-12-16  69.964996  155.529999  53.990002  137.339996\n",
       "2019-12-17  70.102501  154.690002  52.840000  138.179993\n",
       "2019-12-18  69.934998  154.369995  53.389999  138.039993\n",
       "2019-12-19  70.004997  155.710007  53.240002  137.350006\n",
       "\n",
       "[956 rows x 4 columns]"
      ]
     },
     "execution_count": 31,
     "metadata": {},
     "output_type": "execute_result"
    }
   ],
   "source": [
    "data2_close"
   ]
  },
  {
   "cell_type": "markdown",
   "metadata": {},
   "source": [
    "resample to weely data"
   ]
  },
  {
   "cell_type": "code",
   "execution_count": 32,
   "metadata": {},
   "outputs": [],
   "source": [
    "data4_resample=reader.transform_resample(data2_close,\"5B\",value=\"close\")"
   ]
  },
  {
   "cell_type": "code",
   "execution_count": 33,
   "metadata": {},
   "outputs": [
    {
     "data": {
      "text/html": [
       "<div>\n",
       "<style scoped>\n",
       "    .dataframe tbody tr th:only-of-type {\n",
       "        vertical-align: middle;\n",
       "    }\n",
       "\n",
       "    .dataframe tbody tr th {\n",
       "        vertical-align: top;\n",
       "    }\n",
       "\n",
       "    .dataframe thead th {\n",
       "        text-align: right;\n",
       "    }\n",
       "</style>\n",
       "<table border=\"1\" class=\"dataframe\">\n",
       "  <thead>\n",
       "    <tr style=\"text-align: right;\">\n",
       "      <th></th>\n",
       "      <th>AAPL</th>\n",
       "      <th>MSFT</th>\n",
       "      <th>ORCL</th>\n",
       "      <th>JPM</th>\n",
       "    </tr>\n",
       "  </thead>\n",
       "  <tbody>\n",
       "    <tr>\n",
       "      <th>2016-03-07</th>\n",
       "      <td>25.565001</td>\n",
       "      <td>53.070000</td>\n",
       "      <td>38.950001</td>\n",
       "      <td>59.340000</td>\n",
       "    </tr>\n",
       "    <tr>\n",
       "      <th>2016-03-14</th>\n",
       "      <td>26.480000</td>\n",
       "      <td>53.490002</td>\n",
       "      <td>41.480000</td>\n",
       "      <td>60.480000</td>\n",
       "    </tr>\n",
       "    <tr>\n",
       "      <th>2016-03-21</th>\n",
       "      <td>26.417500</td>\n",
       "      <td>54.209999</td>\n",
       "      <td>40.970001</td>\n",
       "      <td>59.480000</td>\n",
       "    </tr>\n",
       "    <tr>\n",
       "      <th>2016-03-28</th>\n",
       "      <td>27.497499</td>\n",
       "      <td>55.570000</td>\n",
       "      <td>41.160000</td>\n",
       "      <td>59.869999</td>\n",
       "    </tr>\n",
       "    <tr>\n",
       "      <th>2016-04-04</th>\n",
       "      <td>27.165001</td>\n",
       "      <td>54.419998</td>\n",
       "      <td>40.360001</td>\n",
       "      <td>57.740002</td>\n",
       "    </tr>\n",
       "    <tr>\n",
       "      <th>...</th>\n",
       "      <td>...</td>\n",
       "      <td>...</td>\n",
       "      <td>...</td>\n",
       "      <td>...</td>\n",
       "    </tr>\n",
       "    <tr>\n",
       "      <th>2019-11-18</th>\n",
       "      <td>65.445000</td>\n",
       "      <td>149.589996</td>\n",
       "      <td>56.389999</td>\n",
       "      <td>130.789993</td>\n",
       "    </tr>\n",
       "    <tr>\n",
       "      <th>2019-11-25</th>\n",
       "      <td>66.812500</td>\n",
       "      <td>151.380005</td>\n",
       "      <td>56.139999</td>\n",
       "      <td>131.759995</td>\n",
       "    </tr>\n",
       "    <tr>\n",
       "      <th>2019-12-02</th>\n",
       "      <td>67.677498</td>\n",
       "      <td>151.750000</td>\n",
       "      <td>54.830002</td>\n",
       "      <td>135.039993</td>\n",
       "    </tr>\n",
       "    <tr>\n",
       "      <th>2019-12-09</th>\n",
       "      <td>68.787498</td>\n",
       "      <td>154.529999</td>\n",
       "      <td>54.509998</td>\n",
       "      <td>136.809998</td>\n",
       "    </tr>\n",
       "    <tr>\n",
       "      <th>2019-12-16</th>\n",
       "      <td>70.004997</td>\n",
       "      <td>155.710007</td>\n",
       "      <td>53.240002</td>\n",
       "      <td>137.350006</td>\n",
       "    </tr>\n",
       "  </tbody>\n",
       "</table>\n",
       "<p>198 rows × 4 columns</p>\n",
       "</div>"
      ],
      "text/plain": [
       "                 AAPL        MSFT       ORCL         JPM\n",
       "2016-03-07  25.565001   53.070000  38.950001   59.340000\n",
       "2016-03-14  26.480000   53.490002  41.480000   60.480000\n",
       "2016-03-21  26.417500   54.209999  40.970001   59.480000\n",
       "2016-03-28  27.497499   55.570000  41.160000   59.869999\n",
       "2016-04-04  27.165001   54.419998  40.360001   57.740002\n",
       "...               ...         ...        ...         ...\n",
       "2019-11-18  65.445000  149.589996  56.389999  130.789993\n",
       "2019-11-25  66.812500  151.380005  56.139999  131.759995\n",
       "2019-12-02  67.677498  151.750000  54.830002  135.039993\n",
       "2019-12-09  68.787498  154.529999  54.509998  136.809998\n",
       "2019-12-16  70.004997  155.710007  53.240002  137.350006\n",
       "\n",
       "[198 rows x 4 columns]"
      ]
     },
     "execution_count": 33,
     "metadata": {},
     "output_type": "execute_result"
    }
   ],
   "source": [
    "data4_resample"
   ]
  },
  {
   "cell_type": "code",
   "execution_count": 34,
   "metadata": {},
   "outputs": [],
   "source": [
    "data4_resample_volume=reader.transform_resample(data2_volume,\"5B\",value=\"volume\")"
   ]
  },
  {
   "cell_type": "code",
   "execution_count": 35,
   "metadata": {},
   "outputs": [
    {
     "data": {
      "text/html": [
       "<div>\n",
       "<style scoped>\n",
       "    .dataframe tbody tr th:only-of-type {\n",
       "        vertical-align: middle;\n",
       "    }\n",
       "\n",
       "    .dataframe tbody tr th {\n",
       "        vertical-align: top;\n",
       "    }\n",
       "\n",
       "    .dataframe thead th {\n",
       "        text-align: right;\n",
       "    }\n",
       "</style>\n",
       "<table border=\"1\" class=\"dataframe\">\n",
       "  <thead>\n",
       "    <tr style=\"text-align: right;\">\n",
       "      <th></th>\n",
       "      <th>AAPL</th>\n",
       "      <th>MSFT</th>\n",
       "      <th>ORCL</th>\n",
       "      <th>JPM</th>\n",
       "    </tr>\n",
       "  </thead>\n",
       "  <tbody>\n",
       "    <tr>\n",
       "      <th>2016-03-07</th>\n",
       "      <td>622057200</td>\n",
       "      <td>171158000</td>\n",
       "      <td>72945800</td>\n",
       "      <td>82398300</td>\n",
       "    </tr>\n",
       "    <tr>\n",
       "      <th>2016-03-14</th>\n",
       "      <td>728292800</td>\n",
       "      <td>172729500</td>\n",
       "      <td>137807200</td>\n",
       "      <td>90746400</td>\n",
       "    </tr>\n",
       "    <tr>\n",
       "      <th>2016-03-21</th>\n",
       "      <td>479134400</td>\n",
       "      <td>87128800</td>\n",
       "      <td>54868600</td>\n",
       "      <td>49307000</td>\n",
       "    </tr>\n",
       "    <tr>\n",
       "      <th>2016-03-28</th>\n",
       "      <td>591860000</td>\n",
       "      <td>114717400</td>\n",
       "      <td>59380400</td>\n",
       "      <td>70722400</td>\n",
       "    </tr>\n",
       "    <tr>\n",
       "      <th>2016-04-04</th>\n",
       "      <td>582890400</td>\n",
       "      <td>100782100</td>\n",
       "      <td>52720600</td>\n",
       "      <td>70134000</td>\n",
       "    </tr>\n",
       "    <tr>\n",
       "      <th>...</th>\n",
       "      <td>...</td>\n",
       "      <td>...</td>\n",
       "      <td>...</td>\n",
       "      <td>...</td>\n",
       "    </tr>\n",
       "    <tr>\n",
       "      <th>2019-11-18</th>\n",
       "      <td>455825200</td>\n",
       "      <td>105644400</td>\n",
       "      <td>37653800</td>\n",
       "      <td>45229600</td>\n",
       "    </tr>\n",
       "    <tr>\n",
       "      <th>2019-11-25</th>\n",
       "      <td>301081200</td>\n",
       "      <td>74202700</td>\n",
       "      <td>32324000</td>\n",
       "      <td>32879100</td>\n",
       "    </tr>\n",
       "    <tr>\n",
       "      <th>2019-12-02</th>\n",
       "      <td>456599200</td>\n",
       "      <td>103331700</td>\n",
       "      <td>57360500</td>\n",
       "      <td>49053100</td>\n",
       "    </tr>\n",
       "    <tr>\n",
       "      <th>2019-12-09</th>\n",
       "      <td>568117600</td>\n",
       "      <td>100477600</td>\n",
       "      <td>71716900</td>\n",
       "      <td>49352500</td>\n",
       "    </tr>\n",
       "    <tr>\n",
       "      <th>2019-12-16</th>\n",
       "      <td>456742000</td>\n",
       "      <td>98657900</td>\n",
       "      <td>65762600</td>\n",
       "      <td>42650700</td>\n",
       "    </tr>\n",
       "  </tbody>\n",
       "</table>\n",
       "<p>198 rows × 4 columns</p>\n",
       "</div>"
      ],
      "text/plain": [
       "                 AAPL       MSFT       ORCL       JPM\n",
       "2016-03-07  622057200  171158000   72945800  82398300\n",
       "2016-03-14  728292800  172729500  137807200  90746400\n",
       "2016-03-21  479134400   87128800   54868600  49307000\n",
       "2016-03-28  591860000  114717400   59380400  70722400\n",
       "2016-04-04  582890400  100782100   52720600  70134000\n",
       "...               ...        ...        ...       ...\n",
       "2019-11-18  455825200  105644400   37653800  45229600\n",
       "2019-11-25  301081200   74202700   32324000  32879100\n",
       "2019-12-02  456599200  103331700   57360500  49053100\n",
       "2019-12-09  568117600  100477600   71716900  49352500\n",
       "2019-12-16  456742000   98657900   65762600  42650700\n",
       "\n",
       "[198 rows x 4 columns]"
      ]
     },
     "execution_count": 35,
     "metadata": {},
     "output_type": "execute_result"
    }
   ],
   "source": [
    "data4_resample_volume"
   ]
  },
  {
   "cell_type": "markdown",
   "metadata": {},
   "source": [
    "now we use following data:"
   ]
  },
  {
   "cell_type": "code",
   "execution_count": 36,
   "metadata": {},
   "outputs": [
    {
     "data": {
      "text/html": [
       "<div>\n",
       "<style scoped>\n",
       "    .dataframe tbody tr th:only-of-type {\n",
       "        vertical-align: middle;\n",
       "    }\n",
       "\n",
       "    .dataframe tbody tr th {\n",
       "        vertical-align: top;\n",
       "    }\n",
       "\n",
       "    .dataframe thead th {\n",
       "        text-align: right;\n",
       "    }\n",
       "</style>\n",
       "<table border=\"1\" class=\"dataframe\">\n",
       "  <thead>\n",
       "    <tr style=\"text-align: right;\">\n",
       "      <th></th>\n",
       "      <th>open</th>\n",
       "      <th>high</th>\n",
       "      <th>low</th>\n",
       "      <th>close</th>\n",
       "      <th>adjclose</th>\n",
       "      <th>volume</th>\n",
       "      <th>ticker</th>\n",
       "    </tr>\n",
       "  </thead>\n",
       "  <tbody>\n",
       "    <tr>\n",
       "      <th>2016-03-07</th>\n",
       "      <td>25.597500</td>\n",
       "      <td>25.707500</td>\n",
       "      <td>25.240000</td>\n",
       "      <td>25.467501</td>\n",
       "      <td>23.530294</td>\n",
       "      <td>143315600</td>\n",
       "      <td>AAPL</td>\n",
       "    </tr>\n",
       "    <tr>\n",
       "      <th>2016-03-08</th>\n",
       "      <td>25.195000</td>\n",
       "      <td>25.440001</td>\n",
       "      <td>25.100000</td>\n",
       "      <td>25.257500</td>\n",
       "      <td>23.336264</td>\n",
       "      <td>126247600</td>\n",
       "      <td>AAPL</td>\n",
       "    </tr>\n",
       "    <tr>\n",
       "      <th>2016-03-09</th>\n",
       "      <td>25.327499</td>\n",
       "      <td>25.395000</td>\n",
       "      <td>25.067499</td>\n",
       "      <td>25.280001</td>\n",
       "      <td>23.357054</td>\n",
       "      <td>108806800</td>\n",
       "      <td>AAPL</td>\n",
       "    </tr>\n",
       "    <tr>\n",
       "      <th>2016-03-10</th>\n",
       "      <td>25.352501</td>\n",
       "      <td>25.559999</td>\n",
       "      <td>25.037500</td>\n",
       "      <td>25.292500</td>\n",
       "      <td>23.368603</td>\n",
       "      <td>134054400</td>\n",
       "      <td>AAPL</td>\n",
       "    </tr>\n",
       "    <tr>\n",
       "      <th>2016-03-11</th>\n",
       "      <td>25.559999</td>\n",
       "      <td>25.570000</td>\n",
       "      <td>25.375000</td>\n",
       "      <td>25.565001</td>\n",
       "      <td>23.620375</td>\n",
       "      <td>109632800</td>\n",
       "      <td>AAPL</td>\n",
       "    </tr>\n",
       "    <tr>\n",
       "      <th>...</th>\n",
       "      <td>...</td>\n",
       "      <td>...</td>\n",
       "      <td>...</td>\n",
       "      <td>...</td>\n",
       "      <td>...</td>\n",
       "      <td>...</td>\n",
       "      <td>...</td>\n",
       "    </tr>\n",
       "    <tr>\n",
       "      <th>2019-12-13</th>\n",
       "      <td>67.864998</td>\n",
       "      <td>68.824997</td>\n",
       "      <td>67.732498</td>\n",
       "      <td>68.787498</td>\n",
       "      <td>67.644707</td>\n",
       "      <td>133587600</td>\n",
       "      <td>AAPL</td>\n",
       "    </tr>\n",
       "    <tr>\n",
       "      <th>2019-12-16</th>\n",
       "      <td>69.250000</td>\n",
       "      <td>70.197502</td>\n",
       "      <td>69.245003</td>\n",
       "      <td>69.964996</td>\n",
       "      <td>68.802635</td>\n",
       "      <td>128186000</td>\n",
       "      <td>AAPL</td>\n",
       "    </tr>\n",
       "    <tr>\n",
       "      <th>2019-12-17</th>\n",
       "      <td>69.892502</td>\n",
       "      <td>70.442497</td>\n",
       "      <td>69.699997</td>\n",
       "      <td>70.102501</td>\n",
       "      <td>68.937851</td>\n",
       "      <td>114158400</td>\n",
       "      <td>AAPL</td>\n",
       "    </tr>\n",
       "    <tr>\n",
       "      <th>2019-12-18</th>\n",
       "      <td>69.949997</td>\n",
       "      <td>70.474998</td>\n",
       "      <td>69.779999</td>\n",
       "      <td>69.934998</td>\n",
       "      <td>68.773132</td>\n",
       "      <td>116028400</td>\n",
       "      <td>AAPL</td>\n",
       "    </tr>\n",
       "    <tr>\n",
       "      <th>2019-12-19</th>\n",
       "      <td>69.875000</td>\n",
       "      <td>70.294998</td>\n",
       "      <td>69.737503</td>\n",
       "      <td>70.004997</td>\n",
       "      <td>68.841965</td>\n",
       "      <td>98369200</td>\n",
       "      <td>AAPL</td>\n",
       "    </tr>\n",
       "  </tbody>\n",
       "</table>\n",
       "<p>956 rows × 7 columns</p>\n",
       "</div>"
      ],
      "text/plain": [
       "                 open       high        low      close   adjclose     volume  \\\n",
       "2016-03-07  25.597500  25.707500  25.240000  25.467501  23.530294  143315600   \n",
       "2016-03-08  25.195000  25.440001  25.100000  25.257500  23.336264  126247600   \n",
       "2016-03-09  25.327499  25.395000  25.067499  25.280001  23.357054  108806800   \n",
       "2016-03-10  25.352501  25.559999  25.037500  25.292500  23.368603  134054400   \n",
       "2016-03-11  25.559999  25.570000  25.375000  25.565001  23.620375  109632800   \n",
       "...               ...        ...        ...        ...        ...        ...   \n",
       "2019-12-13  67.864998  68.824997  67.732498  68.787498  67.644707  133587600   \n",
       "2019-12-16  69.250000  70.197502  69.245003  69.964996  68.802635  128186000   \n",
       "2019-12-17  69.892502  70.442497  69.699997  70.102501  68.937851  114158400   \n",
       "2019-12-18  69.949997  70.474998  69.779999  69.934998  68.773132  116028400   \n",
       "2019-12-19  69.875000  70.294998  69.737503  70.004997  68.841965   98369200   \n",
       "\n",
       "           ticker  \n",
       "2016-03-07   AAPL  \n",
       "2016-03-08   AAPL  \n",
       "2016-03-09   AAPL  \n",
       "2016-03-10   AAPL  \n",
       "2016-03-11   AAPL  \n",
       "...           ...  \n",
       "2019-12-13   AAPL  \n",
       "2019-12-16   AAPL  \n",
       "2019-12-17   AAPL  \n",
       "2019-12-18   AAPL  \n",
       "2019-12-19   AAPL  \n",
       "\n",
       "[956 rows x 7 columns]"
      ]
     },
     "execution_count": 36,
     "metadata": {},
     "output_type": "execute_result"
    }
   ],
   "source": [
    "data1"
   ]
  },
  {
   "cell_type": "code",
   "execution_count": 37,
   "metadata": {},
   "outputs": [],
   "source": [
    "data5=reader.transform_resample(data1,\"5B\")"
   ]
  },
  {
   "cell_type": "code",
   "execution_count": 38,
   "metadata": {},
   "outputs": [
    {
     "data": {
      "text/html": [
       "<div>\n",
       "<style scoped>\n",
       "    .dataframe tbody tr th:only-of-type {\n",
       "        vertical-align: middle;\n",
       "    }\n",
       "\n",
       "    .dataframe tbody tr th {\n",
       "        vertical-align: top;\n",
       "    }\n",
       "\n",
       "    .dataframe thead th {\n",
       "        text-align: right;\n",
       "    }\n",
       "</style>\n",
       "<table border=\"1\" class=\"dataframe\">\n",
       "  <thead>\n",
       "    <tr style=\"text-align: right;\">\n",
       "      <th></th>\n",
       "      <th>open</th>\n",
       "      <th>close</th>\n",
       "      <th>adjclose</th>\n",
       "      <th>high</th>\n",
       "      <th>low</th>\n",
       "      <th>volume</th>\n",
       "    </tr>\n",
       "  </thead>\n",
       "  <tbody>\n",
       "    <tr>\n",
       "      <th>2016-03-07</th>\n",
       "      <td>25.597500</td>\n",
       "      <td>25.565001</td>\n",
       "      <td>23.620375</td>\n",
       "      <td>25.707500</td>\n",
       "      <td>25.037500</td>\n",
       "      <td>622057200</td>\n",
       "    </tr>\n",
       "    <tr>\n",
       "      <th>2016-03-14</th>\n",
       "      <td>25.477501</td>\n",
       "      <td>26.480000</td>\n",
       "      <td>24.465771</td>\n",
       "      <td>26.625000</td>\n",
       "      <td>25.445000</td>\n",
       "      <td>728292800</td>\n",
       "    </tr>\n",
       "    <tr>\n",
       "      <th>2016-03-21</th>\n",
       "      <td>26.482500</td>\n",
       "      <td>26.417500</td>\n",
       "      <td>24.408028</td>\n",
       "      <td>26.912500</td>\n",
       "      <td>26.222500</td>\n",
       "      <td>479134400</td>\n",
       "    </tr>\n",
       "    <tr>\n",
       "      <th>2016-03-28</th>\n",
       "      <td>26.500000</td>\n",
       "      <td>27.497499</td>\n",
       "      <td>25.405874</td>\n",
       "      <td>27.605000</td>\n",
       "      <td>26.219999</td>\n",
       "      <td>591860000</td>\n",
       "    </tr>\n",
       "    <tr>\n",
       "      <th>2016-04-04</th>\n",
       "      <td>27.605000</td>\n",
       "      <td>27.165001</td>\n",
       "      <td>25.098667</td>\n",
       "      <td>28.047501</td>\n",
       "      <td>27.030001</td>\n",
       "      <td>582890400</td>\n",
       "    </tr>\n",
       "    <tr>\n",
       "      <th>...</th>\n",
       "      <td>...</td>\n",
       "      <td>...</td>\n",
       "      <td>...</td>\n",
       "      <td>...</td>\n",
       "      <td>...</td>\n",
       "      <td>...</td>\n",
       "    </tr>\n",
       "    <tr>\n",
       "      <th>2019-11-18</th>\n",
       "      <td>66.449997</td>\n",
       "      <td>65.445000</td>\n",
       "      <td>64.357727</td>\n",
       "      <td>67.000000</td>\n",
       "      <td>65.099998</td>\n",
       "      <td>455825200</td>\n",
       "    </tr>\n",
       "    <tr>\n",
       "      <th>2019-11-25</th>\n",
       "      <td>65.677498</td>\n",
       "      <td>66.812500</td>\n",
       "      <td>65.702515</td>\n",
       "      <td>67.000000</td>\n",
       "      <td>65.625000</td>\n",
       "      <td>301081200</td>\n",
       "    </tr>\n",
       "    <tr>\n",
       "      <th>2019-12-02</th>\n",
       "      <td>66.817497</td>\n",
       "      <td>67.677498</td>\n",
       "      <td>66.553131</td>\n",
       "      <td>67.750000</td>\n",
       "      <td>64.072502</td>\n",
       "      <td>456599200</td>\n",
       "    </tr>\n",
       "    <tr>\n",
       "      <th>2019-12-09</th>\n",
       "      <td>67.500000</td>\n",
       "      <td>68.787498</td>\n",
       "      <td>67.644707</td>\n",
       "      <td>68.824997</td>\n",
       "      <td>66.227501</td>\n",
       "      <td>568117600</td>\n",
       "    </tr>\n",
       "    <tr>\n",
       "      <th>2019-12-16</th>\n",
       "      <td>69.250000</td>\n",
       "      <td>70.004997</td>\n",
       "      <td>68.841965</td>\n",
       "      <td>70.474998</td>\n",
       "      <td>69.245003</td>\n",
       "      <td>456742000</td>\n",
       "    </tr>\n",
       "  </tbody>\n",
       "</table>\n",
       "<p>198 rows × 6 columns</p>\n",
       "</div>"
      ],
      "text/plain": [
       "                 open      close   adjclose       high        low     volume\n",
       "2016-03-07  25.597500  25.565001  23.620375  25.707500  25.037500  622057200\n",
       "2016-03-14  25.477501  26.480000  24.465771  26.625000  25.445000  728292800\n",
       "2016-03-21  26.482500  26.417500  24.408028  26.912500  26.222500  479134400\n",
       "2016-03-28  26.500000  27.497499  25.405874  27.605000  26.219999  591860000\n",
       "2016-04-04  27.605000  27.165001  25.098667  28.047501  27.030001  582890400\n",
       "...               ...        ...        ...        ...        ...        ...\n",
       "2019-11-18  66.449997  65.445000  64.357727  67.000000  65.099998  455825200\n",
       "2019-11-25  65.677498  66.812500  65.702515  67.000000  65.625000  301081200\n",
       "2019-12-02  66.817497  67.677498  66.553131  67.750000  64.072502  456599200\n",
       "2019-12-09  67.500000  68.787498  67.644707  68.824997  66.227501  568117600\n",
       "2019-12-16  69.250000  70.004997  68.841965  70.474998  69.245003  456742000\n",
       "\n",
       "[198 rows x 6 columns]"
      ]
     },
     "execution_count": 38,
     "metadata": {},
     "output_type": "execute_result"
    }
   ],
   "source": [
    "data5"
   ]
  },
  {
   "cell_type": "markdown",
   "metadata": {},
   "source": [
    "### 5.get stock statistics"
   ]
  },
  {
   "cell_type": "code",
   "execution_count": 39,
   "metadata": {},
   "outputs": [],
   "source": [
    "data6_stats=reader.getStockStatistics(data2_close)"
   ]
  },
  {
   "cell_type": "code",
   "execution_count": 40,
   "metadata": {},
   "outputs": [
    {
     "data": {
      "text/html": [
       "<div>\n",
       "<style scoped>\n",
       "    .dataframe tbody tr th:only-of-type {\n",
       "        vertical-align: middle;\n",
       "    }\n",
       "\n",
       "    .dataframe tbody tr th {\n",
       "        vertical-align: top;\n",
       "    }\n",
       "\n",
       "    .dataframe thead th {\n",
       "        text-align: right;\n",
       "    }\n",
       "</style>\n",
       "<table border=\"1\" class=\"dataframe\">\n",
       "  <thead>\n",
       "    <tr style=\"text-align: right;\">\n",
       "      <th></th>\n",
       "      <th>AAPL</th>\n",
       "      <th>MSFT</th>\n",
       "      <th>ORCL</th>\n",
       "      <th>JPM</th>\n",
       "    </tr>\n",
       "  </thead>\n",
       "  <tbody>\n",
       "    <tr>\n",
       "      <th>count</th>\n",
       "      <td>955.000000</td>\n",
       "      <td>955.000000</td>\n",
       "      <td>955.000000</td>\n",
       "      <td>955.000000</td>\n",
       "    </tr>\n",
       "    <tr>\n",
       "      <th>mean</th>\n",
       "      <td>0.001173</td>\n",
       "      <td>0.001260</td>\n",
       "      <td>0.000427</td>\n",
       "      <td>0.000944</td>\n",
       "    </tr>\n",
       "    <tr>\n",
       "      <th>std</th>\n",
       "      <td>0.015049</td>\n",
       "      <td>0.013509</td>\n",
       "      <td>0.012949</td>\n",
       "      <td>0.012300</td>\n",
       "    </tr>\n",
       "    <tr>\n",
       "      <th>min</th>\n",
       "      <td>-0.099607</td>\n",
       "      <td>-0.071710</td>\n",
       "      <td>-0.094321</td>\n",
       "      <td>-0.069477</td>\n",
       "    </tr>\n",
       "    <tr>\n",
       "      <th>25%</th>\n",
       "      <td>-0.005564</td>\n",
       "      <td>-0.004778</td>\n",
       "      <td>-0.004746</td>\n",
       "      <td>-0.005280</td>\n",
       "    </tr>\n",
       "    <tr>\n",
       "      <th>50%</th>\n",
       "      <td>0.000901</td>\n",
       "      <td>0.001069</td>\n",
       "      <td>0.000974</td>\n",
       "      <td>0.000549</td>\n",
       "    </tr>\n",
       "    <tr>\n",
       "      <th>75%</th>\n",
       "      <td>0.008782</td>\n",
       "      <td>0.008063</td>\n",
       "      <td>0.006160</td>\n",
       "      <td>0.007197</td>\n",
       "    </tr>\n",
       "    <tr>\n",
       "      <th>max</th>\n",
       "      <td>0.070422</td>\n",
       "      <td>0.075705</td>\n",
       "      <td>0.085690</td>\n",
       "      <td>0.046879</td>\n",
       "    </tr>\n",
       "    <tr>\n",
       "      <th>skew</th>\n",
       "      <td>-0.278664</td>\n",
       "      <td>-0.027101</td>\n",
       "      <td>-0.528375</td>\n",
       "      <td>-0.089709</td>\n",
       "    </tr>\n",
       "    <tr>\n",
       "      <th>kurt</th>\n",
       "      <td>4.972048</td>\n",
       "      <td>4.334636</td>\n",
       "      <td>10.184612</td>\n",
       "      <td>2.848424</td>\n",
       "    </tr>\n",
       "  </tbody>\n",
       "</table>\n",
       "</div>"
      ],
      "text/plain": [
       "             AAPL        MSFT        ORCL         JPM\n",
       "count  955.000000  955.000000  955.000000  955.000000\n",
       "mean     0.001173    0.001260    0.000427    0.000944\n",
       "std      0.015049    0.013509    0.012949    0.012300\n",
       "min     -0.099607   -0.071710   -0.094321   -0.069477\n",
       "25%     -0.005564   -0.004778   -0.004746   -0.005280\n",
       "50%      0.000901    0.001069    0.000974    0.000549\n",
       "75%      0.008782    0.008063    0.006160    0.007197\n",
       "max      0.070422    0.075705    0.085690    0.046879\n",
       "skew    -0.278664   -0.027101   -0.528375   -0.089709\n",
       "kurt     4.972048    4.334636   10.184612    2.848424"
      ]
     },
     "execution_count": 40,
     "metadata": {},
     "output_type": "execute_result"
    }
   ],
   "source": [
    "data6_stats"
   ]
  },
  {
   "cell_type": "markdown",
   "metadata": {},
   "source": [
    "### 6. get some index:"
   ]
  },
  {
   "cell_type": "markdown",
   "metadata": {},
   "source": [
    "Moving Average Index"
   ]
  },
  {
   "cell_type": "code",
   "execution_count": 41,
   "metadata": {},
   "outputs": [],
   "source": [
    "data7_movingaverage=reader.getMovingAverage(data2_close,20)"
   ]
  },
  {
   "cell_type": "code",
   "execution_count": 42,
   "metadata": {},
   "outputs": [
    {
     "data": {
      "text/html": [
       "<div>\n",
       "<style scoped>\n",
       "    .dataframe tbody tr th:only-of-type {\n",
       "        vertical-align: middle;\n",
       "    }\n",
       "\n",
       "    .dataframe tbody tr th {\n",
       "        vertical-align: top;\n",
       "    }\n",
       "\n",
       "    .dataframe thead th {\n",
       "        text-align: right;\n",
       "    }\n",
       "</style>\n",
       "<table border=\"1\" class=\"dataframe\">\n",
       "  <thead>\n",
       "    <tr style=\"text-align: right;\">\n",
       "      <th></th>\n",
       "      <th>AAPL</th>\n",
       "      <th>MSFT</th>\n",
       "      <th>ORCL</th>\n",
       "      <th>JPM</th>\n",
       "    </tr>\n",
       "  </thead>\n",
       "  <tbody>\n",
       "    <tr>\n",
       "      <th>2016-04-04</th>\n",
       "      <td>26.365000</td>\n",
       "      <td>53.7770</td>\n",
       "      <td>40.0940</td>\n",
       "      <td>59.440500</td>\n",
       "    </tr>\n",
       "    <tr>\n",
       "      <th>2016-04-05</th>\n",
       "      <td>26.464250</td>\n",
       "      <td>53.9535</td>\n",
       "      <td>40.2025</td>\n",
       "      <td>59.361500</td>\n",
       "    </tr>\n",
       "    <tr>\n",
       "      <th>2016-04-06</th>\n",
       "      <td>26.588375</td>\n",
       "      <td>54.1270</td>\n",
       "      <td>40.3325</td>\n",
       "      <td>59.363000</td>\n",
       "    </tr>\n",
       "    <tr>\n",
       "      <th>2016-04-07</th>\n",
       "      <td>26.681125</td>\n",
       "      <td>54.2080</td>\n",
       "      <td>40.4070</td>\n",
       "      <td>59.273000</td>\n",
       "    </tr>\n",
       "    <tr>\n",
       "      <th>2016-04-08</th>\n",
       "      <td>26.774750</td>\n",
       "      <td>54.3265</td>\n",
       "      <td>40.5225</td>\n",
       "      <td>59.229500</td>\n",
       "    </tr>\n",
       "    <tr>\n",
       "      <th>...</th>\n",
       "      <td>...</td>\n",
       "      <td>...</td>\n",
       "      <td>...</td>\n",
       "      <td>...</td>\n",
       "    </tr>\n",
       "    <tr>\n",
       "      <th>2019-12-13</th>\n",
       "      <td>66.578750</td>\n",
       "      <td>150.9350</td>\n",
       "      <td>55.7960</td>\n",
       "      <td>132.383498</td>\n",
       "    </tr>\n",
       "    <tr>\n",
       "      <th>2019-12-16</th>\n",
       "      <td>66.755000</td>\n",
       "      <td>151.2130</td>\n",
       "      <td>55.6745</td>\n",
       "      <td>132.773998</td>\n",
       "    </tr>\n",
       "    <tr>\n",
       "      <th>2019-12-17</th>\n",
       "      <td>66.921375</td>\n",
       "      <td>151.4305</td>\n",
       "      <td>55.5070</td>\n",
       "      <td>133.151998</td>\n",
       "    </tr>\n",
       "    <tr>\n",
       "      <th>2019-12-18</th>\n",
       "      <td>67.089500</td>\n",
       "      <td>151.6295</td>\n",
       "      <td>55.3630</td>\n",
       "      <td>133.524998</td>\n",
       "    </tr>\n",
       "    <tr>\n",
       "      <th>2019-12-19</th>\n",
       "      <td>67.299874</td>\n",
       "      <td>151.9340</td>\n",
       "      <td>55.2130</td>\n",
       "      <td>133.910998</td>\n",
       "    </tr>\n",
       "  </tbody>\n",
       "</table>\n",
       "<p>937 rows × 4 columns</p>\n",
       "</div>"
      ],
      "text/plain": [
       "                 AAPL      MSFT     ORCL         JPM\n",
       "2016-04-04  26.365000   53.7770  40.0940   59.440500\n",
       "2016-04-05  26.464250   53.9535  40.2025   59.361500\n",
       "2016-04-06  26.588375   54.1270  40.3325   59.363000\n",
       "2016-04-07  26.681125   54.2080  40.4070   59.273000\n",
       "2016-04-08  26.774750   54.3265  40.5225   59.229500\n",
       "...               ...       ...      ...         ...\n",
       "2019-12-13  66.578750  150.9350  55.7960  132.383498\n",
       "2019-12-16  66.755000  151.2130  55.6745  132.773998\n",
       "2019-12-17  66.921375  151.4305  55.5070  133.151998\n",
       "2019-12-18  67.089500  151.6295  55.3630  133.524998\n",
       "2019-12-19  67.299874  151.9340  55.2130  133.910998\n",
       "\n",
       "[937 rows x 4 columns]"
      ]
     },
     "execution_count": 42,
     "metadata": {},
     "output_type": "execute_result"
    }
   ],
   "source": [
    "data7_movingaverage"
   ]
  },
  {
   "cell_type": "markdown",
   "metadata": {},
   "source": [
    "EMA Index"
   ]
  },
  {
   "cell_type": "code",
   "execution_count": 43,
   "metadata": {},
   "outputs": [],
   "source": [
    "data7_EMA=reader.getEMA(data2_close)"
   ]
  },
  {
   "cell_type": "code",
   "execution_count": 44,
   "metadata": {},
   "outputs": [
    {
     "data": {
      "text/html": [
       "<div>\n",
       "<style scoped>\n",
       "    .dataframe tbody tr th:only-of-type {\n",
       "        vertical-align: middle;\n",
       "    }\n",
       "\n",
       "    .dataframe tbody tr th {\n",
       "        vertical-align: top;\n",
       "    }\n",
       "\n",
       "    .dataframe thead th {\n",
       "        text-align: right;\n",
       "    }\n",
       "</style>\n",
       "<table border=\"1\" class=\"dataframe\">\n",
       "  <thead>\n",
       "    <tr style=\"text-align: right;\">\n",
       "      <th></th>\n",
       "      <th>AAPL</th>\n",
       "      <th>MSFT</th>\n",
       "      <th>ORCL</th>\n",
       "      <th>JPM</th>\n",
       "    </tr>\n",
       "  </thead>\n",
       "  <tbody>\n",
       "    <tr>\n",
       "      <th>2016-03-07</th>\n",
       "      <td>NaN</td>\n",
       "      <td>NaN</td>\n",
       "      <td>NaN</td>\n",
       "      <td>NaN</td>\n",
       "    </tr>\n",
       "    <tr>\n",
       "      <th>2016-03-08</th>\n",
       "      <td>NaN</td>\n",
       "      <td>NaN</td>\n",
       "      <td>NaN</td>\n",
       "      <td>NaN</td>\n",
       "    </tr>\n",
       "    <tr>\n",
       "      <th>2016-03-09</th>\n",
       "      <td>NaN</td>\n",
       "      <td>NaN</td>\n",
       "      <td>NaN</td>\n",
       "      <td>NaN</td>\n",
       "    </tr>\n",
       "    <tr>\n",
       "      <th>2016-03-10</th>\n",
       "      <td>NaN</td>\n",
       "      <td>NaN</td>\n",
       "      <td>NaN</td>\n",
       "      <td>NaN</td>\n",
       "    </tr>\n",
       "    <tr>\n",
       "      <th>2016-03-11</th>\n",
       "      <td>NaN</td>\n",
       "      <td>NaN</td>\n",
       "      <td>NaN</td>\n",
       "      <td>NaN</td>\n",
       "    </tr>\n",
       "    <tr>\n",
       "      <th>...</th>\n",
       "      <td>...</td>\n",
       "      <td>...</td>\n",
       "      <td>...</td>\n",
       "      <td>...</td>\n",
       "    </tr>\n",
       "    <tr>\n",
       "      <th>2019-12-13</th>\n",
       "      <td>66.408956</td>\n",
       "      <td>150.421418</td>\n",
       "      <td>55.596845</td>\n",
       "      <td>132.637571</td>\n",
       "    </tr>\n",
       "    <tr>\n",
       "      <th>2019-12-16</th>\n",
       "      <td>66.747626</td>\n",
       "      <td>150.907950</td>\n",
       "      <td>55.443812</td>\n",
       "      <td>133.085421</td>\n",
       "    </tr>\n",
       "    <tr>\n",
       "      <th>2019-12-17</th>\n",
       "      <td>67.067138</td>\n",
       "      <td>151.268145</td>\n",
       "      <td>55.195830</td>\n",
       "      <td>133.570618</td>\n",
       "    </tr>\n",
       "    <tr>\n",
       "      <th>2019-12-18</th>\n",
       "      <td>67.340268</td>\n",
       "      <td>151.563560</td>\n",
       "      <td>55.023846</td>\n",
       "      <td>133.996273</td>\n",
       "    </tr>\n",
       "    <tr>\n",
       "      <th>2019-12-19</th>\n",
       "      <td>67.594051</td>\n",
       "      <td>151.958459</td>\n",
       "      <td>54.853956</td>\n",
       "      <td>134.315676</td>\n",
       "    </tr>\n",
       "  </tbody>\n",
       "</table>\n",
       "<p>956 rows × 4 columns</p>\n",
       "</div>"
      ],
      "text/plain": [
       "                 AAPL        MSFT       ORCL         JPM\n",
       "2016-03-07        NaN         NaN        NaN         NaN\n",
       "2016-03-08        NaN         NaN        NaN         NaN\n",
       "2016-03-09        NaN         NaN        NaN         NaN\n",
       "2016-03-10        NaN         NaN        NaN         NaN\n",
       "2016-03-11        NaN         NaN        NaN         NaN\n",
       "...               ...         ...        ...         ...\n",
       "2019-12-13  66.408956  150.421418  55.596845  132.637571\n",
       "2019-12-16  66.747626  150.907950  55.443812  133.085421\n",
       "2019-12-17  67.067138  151.268145  55.195830  133.570618\n",
       "2019-12-18  67.340268  151.563560  55.023846  133.996273\n",
       "2019-12-19  67.594051  151.958459  54.853956  134.315676\n",
       "\n",
       "[956 rows x 4 columns]"
      ]
     },
     "execution_count": 44,
     "metadata": {},
     "output_type": "execute_result"
    }
   ],
   "source": [
    "data7_EMA"
   ]
  },
  {
   "cell_type": "markdown",
   "metadata": {},
   "source": [
    "MACD Index"
   ]
  },
  {
   "cell_type": "code",
   "execution_count": 45,
   "metadata": {},
   "outputs": [],
   "source": [
    "data7_MACD=reader.getMACD(data2_close)"
   ]
  },
  {
   "cell_type": "code",
   "execution_count": 46,
   "metadata": {},
   "outputs": [
    {
     "data": {
      "text/html": [
       "<div>\n",
       "<style scoped>\n",
       "    .dataframe tbody tr th:only-of-type {\n",
       "        vertical-align: middle;\n",
       "    }\n",
       "\n",
       "    .dataframe tbody tr th {\n",
       "        vertical-align: top;\n",
       "    }\n",
       "\n",
       "    .dataframe thead th {\n",
       "        text-align: right;\n",
       "    }\n",
       "</style>\n",
       "<table border=\"1\" class=\"dataframe\">\n",
       "  <thead>\n",
       "    <tr style=\"text-align: right;\">\n",
       "      <th></th>\n",
       "      <th>AAPL</th>\n",
       "      <th>MSFT</th>\n",
       "      <th>ORCL</th>\n",
       "      <th>JPM</th>\n",
       "    </tr>\n",
       "  </thead>\n",
       "  <tbody>\n",
       "    <tr>\n",
       "      <th>2016-03-07</th>\n",
       "      <td>NaN</td>\n",
       "      <td>NaN</td>\n",
       "      <td>NaN</td>\n",
       "      <td>NaN</td>\n",
       "    </tr>\n",
       "    <tr>\n",
       "      <th>2016-03-08</th>\n",
       "      <td>NaN</td>\n",
       "      <td>NaN</td>\n",
       "      <td>NaN</td>\n",
       "      <td>NaN</td>\n",
       "    </tr>\n",
       "    <tr>\n",
       "      <th>2016-03-09</th>\n",
       "      <td>NaN</td>\n",
       "      <td>NaN</td>\n",
       "      <td>NaN</td>\n",
       "      <td>NaN</td>\n",
       "    </tr>\n",
       "    <tr>\n",
       "      <th>2016-03-10</th>\n",
       "      <td>NaN</td>\n",
       "      <td>NaN</td>\n",
       "      <td>NaN</td>\n",
       "      <td>NaN</td>\n",
       "    </tr>\n",
       "    <tr>\n",
       "      <th>2016-03-11</th>\n",
       "      <td>NaN</td>\n",
       "      <td>NaN</td>\n",
       "      <td>NaN</td>\n",
       "      <td>NaN</td>\n",
       "    </tr>\n",
       "    <tr>\n",
       "      <th>...</th>\n",
       "      <td>...</td>\n",
       "      <td>...</td>\n",
       "      <td>...</td>\n",
       "      <td>...</td>\n",
       "    </tr>\n",
       "    <tr>\n",
       "      <th>2019-12-13</th>\n",
       "      <td>1.240062</td>\n",
       "      <td>2.005458</td>\n",
       "      <td>0.021023</td>\n",
       "      <td>2.257994</td>\n",
       "    </tr>\n",
       "    <tr>\n",
       "      <th>2019-12-16</th>\n",
       "      <td>1.266518</td>\n",
       "      <td>2.039828</td>\n",
       "      <td>-0.016015</td>\n",
       "      <td>2.318532</td>\n",
       "    </tr>\n",
       "    <tr>\n",
       "      <th>2019-12-17</th>\n",
       "      <td>1.308479</td>\n",
       "      <td>2.075214</td>\n",
       "      <td>-0.082508</td>\n",
       "      <td>2.386281</td>\n",
       "    </tr>\n",
       "    <tr>\n",
       "      <th>2019-12-18</th>\n",
       "      <td>1.352305</td>\n",
       "      <td>2.099547</td>\n",
       "      <td>-0.155013</td>\n",
       "      <td>2.447326</td>\n",
       "    </tr>\n",
       "    <tr>\n",
       "      <th>2019-12-19</th>\n",
       "      <td>1.393037</td>\n",
       "      <td>2.132270</td>\n",
       "      <td>-0.229525</td>\n",
       "      <td>2.484383</td>\n",
       "    </tr>\n",
       "  </tbody>\n",
       "</table>\n",
       "<p>956 rows × 4 columns</p>\n",
       "</div>"
      ],
      "text/plain": [
       "                AAPL      MSFT      ORCL       JPM\n",
       "2016-03-07       NaN       NaN       NaN       NaN\n",
       "2016-03-08       NaN       NaN       NaN       NaN\n",
       "2016-03-09       NaN       NaN       NaN       NaN\n",
       "2016-03-10       NaN       NaN       NaN       NaN\n",
       "2016-03-11       NaN       NaN       NaN       NaN\n",
       "...              ...       ...       ...       ...\n",
       "2019-12-13  1.240062  2.005458  0.021023  2.257994\n",
       "2019-12-16  1.266518  2.039828 -0.016015  2.318532\n",
       "2019-12-17  1.308479  2.075214 -0.082508  2.386281\n",
       "2019-12-18  1.352305  2.099547 -0.155013  2.447326\n",
       "2019-12-19  1.393037  2.132270 -0.229525  2.484383\n",
       "\n",
       "[956 rows x 4 columns]"
      ]
     },
     "execution_count": 46,
     "metadata": {},
     "output_type": "execute_result"
    }
   ],
   "source": [
    "data7_MACD"
   ]
  },
  {
   "cell_type": "markdown",
   "metadata": {},
   "source": [
    "RSI Index"
   ]
  },
  {
   "cell_type": "code",
   "execution_count": 47,
   "metadata": {},
   "outputs": [],
   "source": [
    "data7_RSI=reader.getRSI(data2_close,20)"
   ]
  },
  {
   "cell_type": "code",
   "execution_count": 48,
   "metadata": {},
   "outputs": [
    {
     "data": {
      "text/html": [
       "<div>\n",
       "<style scoped>\n",
       "    .dataframe tbody tr th:only-of-type {\n",
       "        vertical-align: middle;\n",
       "    }\n",
       "\n",
       "    .dataframe tbody tr th {\n",
       "        vertical-align: top;\n",
       "    }\n",
       "\n",
       "    .dataframe thead th {\n",
       "        text-align: right;\n",
       "    }\n",
       "</style>\n",
       "<table border=\"1\" class=\"dataframe\">\n",
       "  <thead>\n",
       "    <tr style=\"text-align: right;\">\n",
       "      <th></th>\n",
       "      <th>AAPL</th>\n",
       "      <th>MSFT</th>\n",
       "      <th>ORCL</th>\n",
       "      <th>JPM</th>\n",
       "    </tr>\n",
       "  </thead>\n",
       "  <tbody>\n",
       "    <tr>\n",
       "      <th>2016-03-07</th>\n",
       "      <td>NaN</td>\n",
       "      <td>NaN</td>\n",
       "      <td>NaN</td>\n",
       "      <td>NaN</td>\n",
       "    </tr>\n",
       "    <tr>\n",
       "      <th>2016-03-08</th>\n",
       "      <td>NaN</td>\n",
       "      <td>NaN</td>\n",
       "      <td>NaN</td>\n",
       "      <td>NaN</td>\n",
       "    </tr>\n",
       "    <tr>\n",
       "      <th>2016-03-09</th>\n",
       "      <td>NaN</td>\n",
       "      <td>NaN</td>\n",
       "      <td>NaN</td>\n",
       "      <td>NaN</td>\n",
       "    </tr>\n",
       "    <tr>\n",
       "      <th>2016-03-10</th>\n",
       "      <td>NaN</td>\n",
       "      <td>NaN</td>\n",
       "      <td>NaN</td>\n",
       "      <td>NaN</td>\n",
       "    </tr>\n",
       "    <tr>\n",
       "      <th>2016-03-11</th>\n",
       "      <td>NaN</td>\n",
       "      <td>NaN</td>\n",
       "      <td>NaN</td>\n",
       "      <td>NaN</td>\n",
       "    </tr>\n",
       "    <tr>\n",
       "      <th>...</th>\n",
       "      <td>...</td>\n",
       "      <td>...</td>\n",
       "      <td>...</td>\n",
       "      <td>...</td>\n",
       "    </tr>\n",
       "    <tr>\n",
       "      <th>2019-12-13</th>\n",
       "      <td>0.690731</td>\n",
       "      <td>0.755216</td>\n",
       "      <td>0.381553</td>\n",
       "      <td>0.700180</td>\n",
       "    </tr>\n",
       "    <tr>\n",
       "      <th>2019-12-16</th>\n",
       "      <td>0.739857</td>\n",
       "      <td>0.782266</td>\n",
       "      <td>0.342710</td>\n",
       "      <td>0.714690</td>\n",
       "    </tr>\n",
       "    <tr>\n",
       "      <th>2019-12-17</th>\n",
       "      <td>0.745083</td>\n",
       "      <td>0.709476</td>\n",
       "      <td>0.274422</td>\n",
       "      <td>0.736987</td>\n",
       "    </tr>\n",
       "    <tr>\n",
       "      <th>2019-12-18</th>\n",
       "      <td>0.725460</td>\n",
       "      <td>0.682727</td>\n",
       "      <td>0.343564</td>\n",
       "      <td>0.726528</td>\n",
       "    </tr>\n",
       "    <tr>\n",
       "      <th>2019-12-19</th>\n",
       "      <td>0.728760</td>\n",
       "      <td>0.729865</td>\n",
       "      <td>0.333971</td>\n",
       "      <td>0.674393</td>\n",
       "    </tr>\n",
       "  </tbody>\n",
       "</table>\n",
       "<p>956 rows × 4 columns</p>\n",
       "</div>"
      ],
      "text/plain": [
       "                AAPL      MSFT      ORCL       JPM\n",
       "2016-03-07       NaN       NaN       NaN       NaN\n",
       "2016-03-08       NaN       NaN       NaN       NaN\n",
       "2016-03-09       NaN       NaN       NaN       NaN\n",
       "2016-03-10       NaN       NaN       NaN       NaN\n",
       "2016-03-11       NaN       NaN       NaN       NaN\n",
       "...              ...       ...       ...       ...\n",
       "2019-12-13  0.690731  0.755216  0.381553  0.700180\n",
       "2019-12-16  0.739857  0.782266  0.342710  0.714690\n",
       "2019-12-17  0.745083  0.709476  0.274422  0.736987\n",
       "2019-12-18  0.725460  0.682727  0.343564  0.726528\n",
       "2019-12-19  0.728760  0.729865  0.333971  0.674393\n",
       "\n",
       "[956 rows x 4 columns]"
      ]
     },
     "execution_count": 48,
     "metadata": {},
     "output_type": "execute_result"
    }
   ],
   "source": [
    "data7_RSI"
   ]
  },
  {
   "cell_type": "markdown",
   "metadata": {},
   "source": [
    "### 7.make some plot"
   ]
  },
  {
   "cell_type": "markdown",
   "metadata": {},
   "source": [
    "Plot Covariance Matrix"
   ]
  },
  {
   "cell_type": "code",
   "execution_count": 49,
   "metadata": {},
   "outputs": [
    {
     "data": {
      "image/png": "[encoded data removed]",
      "text/plain": [
       "<Figure size 720x360 with 2 Axes>"
      ]
     },
     "metadata": {
      "needs_background": "light"
     },
     "output_type": "display_data"
    }
   ],
   "source": [
    "reader.plotCov(data2_close)"
   ]
  },
  {
   "cell_type": "markdown",
   "metadata": {},
   "source": [
    "Plot Stock Tendency"
   ]
  },
  {
   "cell_type": "code",
   "execution_count": 50,
   "metadata": {},
   "outputs": [
    {
     "data": {
      "image/png": "[encoded data removed]",
      "text/plain": [
       "<Figure size 432x288 with 1 Axes>"
      ]
     },
     "metadata": {
      "needs_background": "light"
     },
     "output_type": "display_data"
    },
    {
     "data": {
      "image/png": "[encoded data removed]",
      "text/plain": [
       "<Figure size 432x288 with 1 Axes>"
      ]
     },
     "metadata": {
      "needs_background": "light"
     },
     "output_type": "display_data"
    }
   ],
   "source": [
    "reader.plotTendency(data2_close,value=\"close\")"
   ]
  },
  {
   "cell_type": "code",
   "execution_count": null,
   "metadata": {},
   "outputs": [],
   "source": []
  }
 ],
 "metadata": {
  "kernelspec": {
   "display_name": "Python 3",
   "language": "python",
   "name": "python3"
  },
  "language_info": {
   "codemirror_mode": {
    "name": "ipython",
    "version": 3
   },
   "file_extension": ".py",
   "mimetype": "text/x-python",
   "name": "python",
   "nbconvert_exporter": "python",
   "pygments_lexer": "ipython3",
   "version": "3.8.6"
  }
 },
 "nbformat": 4,
 "nbformat_minor": 4
}
